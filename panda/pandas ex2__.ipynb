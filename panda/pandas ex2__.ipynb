{
 "cells": [
  {
   "cell_type": "markdown",
   "id": "98b258dd",
   "metadata": {},
   "source": [
    "# Ex2- Getting and Knowing your Data"
   ]
  },
  {
   "cell_type": "markdown",
   "id": "63edf545",
   "metadata": {},
   "source": [
    "### Step 1. Import the necessary libraries"
   ]
  },
  {
   "cell_type": "code",
   "execution_count": 2,
   "id": "ed2ef90a",
   "metadata": {},
   "outputs": [
    {
     "data": {
      "text/plain": [
       "<Response [200]>"
      ]
     },
     "execution_count": 2,
     "metadata": {},
     "output_type": "execute_result"
    }
   ],
   "source": [
    "import pandas as pd \n",
    "import requests\n",
    "URL = \"https://raw.githubusercontent.com/justmarkham/DAT8/master/data/u.user\"\n",
    "response = requests.get(URL)\n",
    "response"
   ]
  },
  {
   "cell_type": "code",
   "execution_count": 3,
   "id": "7caed5fa",
   "metadata": {},
   "outputs": [
    {
     "data": {
      "text/plain": [
       "b'user_id|age|gender|occupation|zip_code\\n1|24|M|technician|85711\\n2|53|F|other|94043\\n3|23|M|writer|32067\\n4|24|M|technician|43537\\n5|33|F|other|15213\\n6|42|M|executive|98101\\n7|57|M|administrator|91344\\n8|36|M|administrator|05201\\n9|29|M|student|01002\\n10|53|M|lawyer|90703\\n11|39|F|other|30329\\n12|28|F|other|06405\\n13|47|M|educator|29206\\n14|45|M|scientist|55106\\n15|49|F|educator|97301\\n16|21|M|entertainment|10309\\n17|30|M|programmer|06355\\n18|35|F|other|37212\\n19|40|M|librarian|02138\\n20|42|F|homemaker|95660\\n21|26|M|writer|30068\\n22|25|M|writer|40206\\n23|30|F|artist|48197\\n24|21|F|artist|94533\\n25|39|M|engineer|55107\\n26|49|M|engineer|21044\\n27|40|F|librarian|30030\\n28|32|M|writer|55369\\n29|41|M|programmer|94043\\n30|7|M|student|55436\\n31|24|M|artist|10003\\n32|28|F|student|78741\\n33|23|M|student|27510\\n34|38|F|administrator|42141\\n35|20|F|homemaker|42459\\n36|19|F|student|93117\\n37|23|M|student|55105\\n38|28|F|other|54467\\n39|41|M|entertainment|01040\\n40|38|M|scientist|27514\\n41|33|M|engineer|80525\\n42|30|M|administrator|17870\\n43|29|F|librarian|20854\\n44|26|M|technician|46260\\n45|29|M|programmer|50233\\n46|27|F|marketing|46538\\n47|53|M|marketing|07102\\n48|45|M|administrator|12550\\n49|23|F|student|76111\\n50|21|M|writer|52245\\n51|28|M|educator|16509\\n52|18|F|student|55105\\n53|26|M|programmer|55414\\n54|22|M|executive|66315\\n55|37|M|programmer|01331\\n56|25|M|librarian|46260\\n57|16|M|none|84010\\n58|27|M|programmer|52246\\n59|49|M|educator|08403\\n60|50|M|healthcare|06472\\n61|36|M|engineer|30040\\n62|27|F|administrator|97214\\n63|31|M|marketing|75240\\n64|32|M|educator|43202\\n65|51|F|educator|48118\\n66|23|M|student|80521\\n67|17|M|student|60402\\n68|19|M|student|22904\\n69|24|M|engineer|55337\\n70|27|M|engineer|60067\\n71|39|M|scientist|98034\\n72|48|F|administrator|73034\\n73|24|M|student|41850\\n74|39|M|scientist|T8H1N\\n75|24|M|entertainment|08816\\n76|20|M|student|02215\\n77|30|M|technician|29379\\n78|26|M|administrator|61801\\n79|39|F|administrator|03755\\n80|34|F|administrator|52241\\n81|21|M|student|21218\\n82|50|M|programmer|22902\\n83|40|M|other|44133\\n84|32|M|executive|55369\\n85|51|M|educator|20003\\n86|26|M|administrator|46005\\n87|47|M|administrator|89503\\n88|49|F|librarian|11701\\n89|43|F|administrator|68106\\n90|60|M|educator|78155\\n91|55|M|marketing|01913\\n92|32|M|entertainment|80525\\n93|48|M|executive|23112\\n94|26|M|student|71457\\n95|31|M|administrator|10707\\n96|25|F|artist|75206\\n97|43|M|artist|98006\\n98|49|F|executive|90291\\n99|20|M|student|63129\\n100|36|M|executive|90254\\n101|15|M|student|05146\\n102|38|M|programmer|30220\\n103|26|M|student|55108\\n104|27|M|student|55108\\n105|24|M|engineer|94043\\n106|61|M|retired|55125\\n107|39|M|scientist|60466\\n108|44|M|educator|63130\\n109|29|M|other|55423\\n110|19|M|student|77840\\n111|57|M|engineer|90630\\n112|30|M|salesman|60613\\n113|47|M|executive|95032\\n114|27|M|programmer|75013\\n115|31|M|engineer|17110\\n116|40|M|healthcare|97232\\n117|20|M|student|16125\\n118|21|M|administrator|90210\\n119|32|M|programmer|67401\\n120|47|F|other|06260\\n121|54|M|librarian|99603\\n122|32|F|writer|22206\\n123|48|F|artist|20008\\n124|34|M|student|60615\\n125|30|M|lawyer|22202\\n126|28|F|lawyer|20015\\n127|33|M|none|73439\\n128|24|F|marketing|20009\\n129|36|F|marketing|07039\\n130|20|M|none|60115\\n131|59|F|administrator|15237\\n132|24|M|other|94612\\n133|53|M|engineer|78602\\n134|31|M|programmer|80236\\n135|23|M|student|38401\\n136|51|M|other|97365\\n137|50|M|educator|84408\\n138|46|M|doctor|53211\\n139|20|M|student|08904\\n140|30|F|student|32250\\n141|49|M|programmer|36117\\n142|13|M|other|48118\\n143|42|M|technician|08832\\n144|53|M|programmer|20910\\n145|31|M|entertainment|V3N4P\\n146|45|M|artist|83814\\n147|40|F|librarian|02143\\n148|33|M|engineer|97006\\n149|35|F|marketing|17325\\n150|20|F|artist|02139\\n151|38|F|administrator|48103\\n152|33|F|educator|68767\\n153|25|M|student|60641\\n154|25|M|student|53703\\n155|32|F|other|11217\\n156|25|M|educator|08360\\n157|57|M|engineer|70808\\n158|50|M|educator|27606\\n159|23|F|student|55346\\n160|27|M|programmer|66215\\n161|50|M|lawyer|55104\\n162|25|M|artist|15610\\n163|49|M|administrator|97212\\n164|47|M|healthcare|80123\\n165|20|F|other|53715\\n166|47|M|educator|55113\\n167|37|M|other|L9G2B\\n168|48|M|other|80127\\n169|52|F|other|53705\\n170|53|F|healthcare|30067\\n171|48|F|educator|78750\\n172|55|M|marketing|22207\\n173|56|M|other|22306\\n174|30|F|administrator|52302\\n175|26|F|scientist|21911\\n176|28|M|scientist|07030\\n177|20|M|programmer|19104\\n178|26|M|other|49512\\n179|15|M|entertainment|20755\\n180|22|F|administrator|60202\\n181|26|M|executive|21218\\n182|36|M|programmer|33884\\n183|33|M|scientist|27708\\n184|37|M|librarian|76013\\n185|53|F|librarian|97403\\n186|39|F|executive|00000\\n187|26|M|educator|16801\\n188|42|M|student|29440\\n189|32|M|artist|95014\\n190|30|M|administrator|95938\\n191|33|M|administrator|95161\\n192|42|M|educator|90840\\n193|29|M|student|49931\\n194|38|M|administrator|02154\\n195|42|M|scientist|93555\\n196|49|M|writer|55105\\n197|55|M|technician|75094\\n198|21|F|student|55414\\n199|30|M|writer|17604\\n200|40|M|programmer|93402\\n201|27|M|writer|E2A4H\\n202|41|F|educator|60201\\n203|25|F|student|32301\\n204|52|F|librarian|10960\\n205|47|M|lawyer|06371\\n206|14|F|student|53115\\n207|39|M|marketing|92037\\n208|43|M|engineer|01720\\n209|33|F|educator|85710\\n210|39|M|engineer|03060\\n211|66|M|salesman|32605\\n212|49|F|educator|61401\\n213|33|M|executive|55345\\n214|26|F|librarian|11231\\n215|35|M|programmer|63033\\n216|22|M|engineer|02215\\n217|22|M|other|11727\\n218|37|M|administrator|06513\\n219|32|M|programmer|43212\\n220|30|M|librarian|78205\\n221|19|M|student|20685\\n222|29|M|programmer|27502\\n223|19|F|student|47906\\n224|31|F|educator|43512\\n225|51|F|administrator|58202\\n226|28|M|student|92103\\n227|46|M|executive|60659\\n228|21|F|student|22003\\n229|29|F|librarian|22903\\n230|28|F|student|14476\\n231|48|M|librarian|01080\\n232|45|M|scientist|99709\\n233|38|M|engineer|98682\\n234|60|M|retired|94702\\n235|37|M|educator|22973\\n236|44|F|writer|53214\\n237|49|M|administrator|63146\\n238|42|F|administrator|44124\\n239|39|M|artist|95628\\n240|23|F|educator|20784\\n241|26|F|student|20001\\n242|33|M|educator|31404\\n243|33|M|educator|60201\\n244|28|M|technician|80525\\n245|22|M|student|55109\\n246|19|M|student|28734\\n247|28|M|engineer|20770\\n248|25|M|student|37235\\n249|25|M|student|84103\\n250|29|M|executive|95110\\n251|28|M|doctor|85032\\n252|42|M|engineer|07733\\n253|26|F|librarian|22903\\n254|44|M|educator|42647\\n255|23|M|entertainment|07029\\n256|35|F|none|39042\\n257|17|M|student|77005\\n258|19|F|student|77801\\n259|21|M|student|48823\\n260|40|F|artist|89801\\n261|28|M|administrator|85202\\n262|19|F|student|78264\\n263|41|M|programmer|55346\\n264|36|F|writer|90064\\n265|26|M|executive|84601\\n266|62|F|administrator|78756\\n267|23|M|engineer|83716\\n268|24|M|engineer|19422\\n269|31|F|librarian|43201\\n270|18|F|student|63119\\n271|51|M|engineer|22932\\n272|33|M|scientist|53706\\n273|50|F|other|10016\\n274|20|F|student|55414\\n275|38|M|engineer|92064\\n276|21|M|student|95064\\n277|35|F|administrator|55406\\n278|37|F|librarian|30033\\n279|33|M|programmer|85251\\n280|30|F|librarian|22903\\n281|15|F|student|06059\\n282|22|M|administrator|20057\\n283|28|M|programmer|55305\\n284|40|M|executive|92629\\n285|25|M|programmer|53713\\n286|27|M|student|15217\\n287|21|M|salesman|31211\\n288|34|M|marketing|23226\\n289|11|M|none|94619\\n290|40|M|engineer|93550\\n291|19|M|student|44106\\n292|35|F|programmer|94703\\n293|24|M|writer|60804\\n294|34|M|technician|92110\\n295|31|M|educator|50325\\n296|43|F|administrator|16803\\n297|29|F|educator|98103\\n298|44|M|executive|01581\\n299|29|M|doctor|63108\\n300|26|F|programmer|55106\\n301|24|M|student|55439\\n302|42|M|educator|77904\\n303|19|M|student|14853\\n304|22|F|student|71701\\n305|23|M|programmer|94086\\n306|45|M|other|73132\\n307|25|M|student|55454\\n308|60|M|retired|95076\\n309|40|M|scientist|70802\\n310|37|M|educator|91711\\n311|32|M|technician|73071\\n312|48|M|other|02110\\n313|41|M|marketing|60035\\n314|20|F|student|08043\\n315|31|M|educator|18301\\n316|43|F|other|77009\\n317|22|M|administrator|13210\\n318|65|M|retired|06518\\n319|38|M|programmer|22030\\n320|19|M|student|24060\\n321|49|F|educator|55413\\n322|20|M|student|50613\\n323|21|M|student|19149\\n324|21|F|student|02176\\n325|48|M|technician|02139\\n326|41|M|administrator|15235\\n327|22|M|student|11101\\n328|51|M|administrator|06779\\n329|48|M|educator|01720\\n330|35|F|educator|33884\\n331|33|M|entertainment|91344\\n332|20|M|student|40504\\n333|47|M|other|V0R2M\\n334|32|M|librarian|30002\\n335|45|M|executive|33775\\n336|23|M|salesman|42101\\n337|37|M|scientist|10522\\n338|39|F|librarian|59717\\n339|35|M|lawyer|37901\\n340|46|M|engineer|80123\\n341|17|F|student|44405\\n342|25|F|other|98006\\n343|43|M|engineer|30093\\n344|30|F|librarian|94117\\n345|28|F|librarian|94143\\n346|34|M|other|76059\\n347|18|M|student|90210\\n348|24|F|student|45660\\n349|68|M|retired|61455\\n350|32|M|student|97301\\n351|61|M|educator|49938\\n352|37|F|programmer|55105\\n353|25|M|scientist|28480\\n354|29|F|librarian|48197\\n355|25|M|student|60135\\n356|32|F|homemaker|92688\\n357|26|M|executive|98133\\n358|40|M|educator|10022\\n359|22|M|student|61801\\n360|51|M|other|98027\\n361|22|M|student|44074\\n362|35|F|homemaker|85233\\n363|20|M|student|87501\\n364|63|M|engineer|01810\\n365|29|M|lawyer|20009\\n366|20|F|student|50670\\n367|17|M|student|37411\\n368|18|M|student|92113\\n369|24|M|student|91335\\n370|52|M|writer|08534\\n371|36|M|engineer|99206\\n372|25|F|student|66046\\n373|24|F|other|55116\\n374|36|M|executive|78746\\n375|17|M|entertainment|37777\\n376|28|F|other|10010\\n377|22|M|student|18015\\n378|35|M|student|02859\\n379|44|M|programmer|98117\\n380|32|M|engineer|55117\\n381|33|M|artist|94608\\n382|45|M|engineer|01824\\n383|42|M|administrator|75204\\n384|52|M|programmer|45218\\n385|36|M|writer|10003\\n386|36|M|salesman|43221\\n387|33|M|entertainment|37412\\n388|31|M|other|36106\\n389|44|F|writer|83702\\n390|42|F|writer|85016\\n391|23|M|student|84604\\n392|52|M|writer|59801\\n393|19|M|student|83686\\n394|25|M|administrator|96819\\n395|43|M|other|44092\\n396|57|M|engineer|94551\\n397|17|M|student|27514\\n398|40|M|other|60008\\n399|25|M|other|92374\\n400|33|F|administrator|78213\\n401|46|F|healthcare|84107\\n402|30|M|engineer|95129\\n403|37|M|other|06811\\n404|29|F|programmer|55108\\n405|22|F|healthcare|10019\\n406|52|M|educator|93109\\n407|29|M|engineer|03261\\n408|23|M|student|61755\\n409|48|M|administrator|98225\\n410|30|F|artist|94025\\n411|34|M|educator|44691\\n412|25|M|educator|15222\\n413|55|M|educator|78212\\n414|24|M|programmer|38115\\n415|39|M|educator|85711\\n416|20|F|student|92626\\n417|27|F|other|48103\\n418|55|F|none|21206\\n419|37|M|lawyer|43215\\n420|53|M|educator|02140\\n421|38|F|programmer|55105\\n422|26|M|entertainment|94533\\n423|64|M|other|91606\\n424|36|F|marketing|55422\\n425|19|M|student|58644\\n426|55|M|educator|01602\\n427|51|M|doctor|85258\\n428|28|M|student|55414\\n429|27|M|student|29205\\n430|38|M|scientist|98199\\n431|24|M|marketing|92629\\n432|22|M|entertainment|50311\\n433|27|M|artist|11211\\n434|16|F|student|49705\\n435|24|M|engineer|60007\\n436|30|F|administrator|17345\\n437|27|F|other|20009\\n438|51|F|administrator|43204\\n439|23|F|administrator|20817\\n440|30|M|other|48076\\n441|50|M|technician|55013\\n442|22|M|student|85282\\n443|35|M|salesman|33308\\n444|51|F|lawyer|53202\\n445|21|M|writer|92653\\n446|57|M|educator|60201\\n447|30|M|administrator|55113\\n448|23|M|entertainment|10021\\n449|23|M|librarian|55021\\n450|35|F|educator|11758\\n451|16|M|student|48446\\n452|35|M|administrator|28018\\n453|18|M|student|06333\\n454|57|M|other|97330\\n455|48|M|administrator|83709\\n456|24|M|technician|31820\\n457|33|F|salesman|30011\\n458|47|M|technician|Y1A6B\\n459|22|M|student|29201\\n460|44|F|other|60630\\n461|15|M|student|98102\\n462|19|F|student|02918\\n463|48|F|healthcare|75218\\n464|60|M|writer|94583\\n465|32|M|other|05001\\n466|22|M|student|90804\\n467|29|M|engineer|91201\\n468|28|M|engineer|02341\\n469|60|M|educator|78628\\n470|24|M|programmer|10021\\n471|10|M|student|77459\\n472|24|M|student|87544\\n473|29|M|student|94708\\n474|51|M|executive|93711\\n475|30|M|programmer|75230\\n476|28|M|student|60440\\n477|23|F|student|02125\\n478|29|M|other|10019\\n479|30|M|educator|55409\\n480|57|M|retired|98257\\n481|73|M|retired|37771\\n482|18|F|student|40256\\n483|29|M|scientist|43212\\n484|27|M|student|21208\\n485|44|F|educator|95821\\n486|39|M|educator|93101\\n487|22|M|engineer|92121\\n488|48|M|technician|21012\\n489|55|M|other|45218\\n490|29|F|artist|V5A2B\\n491|43|F|writer|53711\\n492|57|M|educator|94618\\n493|22|M|engineer|60090\\n494|38|F|administrator|49428\\n495|29|M|engineer|03052\\n496|21|F|student|55414\\n497|20|M|student|50112\\n498|26|M|writer|55408\\n499|42|M|programmer|75006\\n500|28|M|administrator|94305\\n501|22|M|student|10025\\n502|22|M|student|23092\\n503|50|F|writer|27514\\n504|40|F|writer|92115\\n505|27|F|other|20657\\n506|46|M|programmer|03869\\n507|18|F|writer|28450\\n508|27|M|marketing|19382\\n509|23|M|administrator|10011\\n510|34|M|other|98038\\n511|22|M|student|21250\\n512|29|M|other|20090\\n513|43|M|administrator|26241\\n514|27|M|programmer|20707\\n515|53|M|marketing|49508\\n516|53|F|librarian|10021\\n517|24|M|student|55454\\n518|49|F|writer|99709\\n519|22|M|other|55320\\n520|62|M|healthcare|12603\\n521|19|M|student|02146\\n522|36|M|engineer|55443\\n523|50|F|administrator|04102\\n524|56|M|educator|02159\\n525|27|F|administrator|19711\\n526|30|M|marketing|97124\\n527|33|M|librarian|12180\\n528|18|M|student|55104\\n529|47|F|administrator|44224\\n530|29|M|engineer|94040\\n531|30|F|salesman|97408\\n532|20|M|student|92705\\n533|43|M|librarian|02324\\n534|20|M|student|05464\\n535|45|F|educator|80302\\n536|38|M|engineer|30078\\n537|36|M|engineer|22902\\n538|31|M|scientist|21010\\n539|53|F|administrator|80303\\n540|28|M|engineer|91201\\n541|19|F|student|84302\\n542|21|M|student|60515\\n543|33|M|scientist|95123\\n544|44|F|other|29464\\n545|27|M|technician|08052\\n546|36|M|executive|22911\\n547|50|M|educator|14534\\n548|51|M|writer|95468\\n549|42|M|scientist|45680\\n550|16|F|student|95453\\n551|25|M|programmer|55414\\n552|45|M|other|68147\\n553|58|M|educator|62901\\n554|32|M|scientist|62901\\n555|29|F|educator|23227\\n556|35|F|educator|30606\\n557|30|F|writer|11217\\n558|56|F|writer|63132\\n559|69|M|executive|10022\\n560|32|M|student|10003\\n561|23|M|engineer|60005\\n562|54|F|administrator|20879\\n563|39|F|librarian|32707\\n564|65|M|retired|94591\\n565|40|M|student|55422\\n566|20|M|student|14627\\n567|24|M|entertainment|10003\\n568|39|M|educator|01915\\n569|34|M|educator|91903\\n570|26|M|educator|14627\\n571|34|M|artist|01945\\n572|51|M|educator|20003\\n573|68|M|retired|48911\\n574|56|M|educator|53188\\n575|33|M|marketing|46032\\n576|48|M|executive|98281\\n577|36|F|student|77845\\n578|31|M|administrator|M7A1A\\n579|32|M|educator|48103\\n580|16|M|student|17961\\n581|37|M|other|94131\\n582|17|M|student|93003\\n583|44|M|engineer|29631\\n584|25|M|student|27511\\n585|69|M|librarian|98501\\n586|20|M|student|79508\\n587|26|M|other|14216\\n588|18|F|student|93063\\n589|21|M|lawyer|90034\\n590|50|M|educator|82435\\n591|57|F|librarian|92093\\n592|18|M|student|97520\\n593|31|F|educator|68767\\n594|46|M|educator|M4J2K\\n595|25|M|programmer|31909\\n596|20|M|artist|77073\\n597|23|M|other|84116\\n598|40|F|marketing|43085\\n599|22|F|student|R3T5K\\n600|34|M|programmer|02320\\n601|19|F|artist|99687\\n602|47|F|other|34656\\n603|21|M|programmer|47905\\n604|39|M|educator|11787\\n605|33|M|engineer|33716\\n606|28|M|programmer|63044\\n607|49|F|healthcare|02154\\n608|22|M|other|10003\\n609|13|F|student|55106\\n610|22|M|student|21227\\n611|46|M|librarian|77008\\n612|36|M|educator|79070\\n613|37|F|marketing|29678\\n614|54|M|educator|80227\\n615|38|M|educator|27705\\n616|55|M|scientist|50613\\n617|27|F|writer|11201\\n618|15|F|student|44212\\n619|17|M|student|44134\\n620|18|F|writer|81648\\n621|17|M|student|60402\\n622|25|M|programmer|14850\\n623|50|F|educator|60187\\n624|19|M|student|30067\\n625|27|M|programmer|20723\\n626|23|M|scientist|19807\\n627|24|M|engineer|08034\\n628|13|M|none|94306\\n629|46|F|other|44224\\n630|26|F|healthcare|55408\\n631|18|F|student|38866\\n632|18|M|student|55454\\n633|35|M|programmer|55414\\n634|39|M|engineer|T8H1N\\n635|22|M|other|23237\\n636|47|M|educator|48043\\n637|30|M|other|74101\\n638|45|M|engineer|01940\\n639|42|F|librarian|12065\\n640|20|M|student|61801\\n641|24|M|student|60626\\n642|18|F|student|95521\\n643|39|M|scientist|55122\\n644|51|M|retired|63645\\n645|27|M|programmer|53211\\n646|17|F|student|51250\\n647|40|M|educator|45810\\n648|43|M|engineer|91351\\n649|20|M|student|39762\\n650|42|M|engineer|83814\\n651|65|M|retired|02903\\n652|35|M|other|22911\\n653|31|M|executive|55105\\n654|27|F|student|78739\\n655|50|F|healthcare|60657\\n656|48|M|educator|10314\\n657|26|F|none|78704\\n658|33|M|programmer|92626\\n659|31|M|educator|54248\\n660|26|M|student|77380\\n661|28|M|programmer|98121\\n662|55|M|librarian|19102\\n663|26|M|other|19341\\n664|30|M|engineer|94115\\n665|25|M|administrator|55412\\n666|44|M|administrator|61820\\n667|35|M|librarian|01970\\n668|29|F|writer|10016\\n669|37|M|other|20009\\n670|30|M|technician|21114\\n671|21|M|programmer|91919\\n672|54|F|administrator|90095\\n673|51|M|educator|22906\\n674|13|F|student|55337\\n675|34|M|other|28814\\n676|30|M|programmer|32712\\n677|20|M|other|99835\\n678|50|M|educator|61462\\n679|20|F|student|54302\\n680|33|M|lawyer|90405\\n681|44|F|marketing|97208\\n682|23|M|programmer|55128\\n683|42|M|librarian|23509\\n684|28|M|student|55414\\n685|32|F|librarian|55409\\n686|32|M|educator|26506\\n687|31|F|healthcare|27713\\n688|37|F|administrator|60476\\n689|25|M|other|45439\\n690|35|M|salesman|63304\\n691|34|M|educator|60089\\n692|34|M|engineer|18053\\n693|43|F|healthcare|85210\\n694|60|M|programmer|06365\\n695|26|M|writer|38115\\n696|55|M|other|94920\\n697|25|M|other|77042\\n698|28|F|programmer|06906\\n699|44|M|other|96754\\n700|17|M|student|76309\\n701|51|F|librarian|56321\\n702|37|M|other|89104\\n703|26|M|educator|49512\\n704|51|F|librarian|91105\\n705|21|F|student|54494\\n706|23|M|student|55454\\n707|56|F|librarian|19146\\n708|26|F|homemaker|96349\\n709|21|M|other|N4T1A\\n710|19|M|student|92020\\n711|22|F|student|15203\\n712|22|F|student|54901\\n713|42|F|other|07204\\n714|26|M|engineer|55343\\n715|21|M|technician|91206\\n716|36|F|administrator|44265\\n717|24|M|technician|84105\\n718|42|M|technician|64118\\n719|37|F|other|V0R2H\\n720|49|F|administrator|16506\\n721|24|F|entertainment|11238\\n722|50|F|homemaker|17331\\n723|26|M|executive|94403\\n724|31|M|executive|40243\\n725|21|M|student|91711\\n726|25|F|administrator|80538\\n727|25|M|student|78741\\n728|58|M|executive|94306\\n729|19|M|student|56567\\n730|31|F|scientist|32114\\n731|41|F|educator|70403\\n732|28|F|other|98405\\n733|44|F|other|60630\\n734|25|F|other|63108\\n735|29|F|healthcare|85719\\n736|48|F|writer|94618\\n737|30|M|programmer|98072\\n738|35|M|technician|95403\\n739|35|M|technician|73162\\n740|25|F|educator|22206\\n741|25|M|writer|63108\\n742|35|M|student|29210\\n743|31|M|programmer|92660\\n744|35|M|marketing|47024\\n745|42|M|writer|55113\\n746|25|M|engineer|19047\\n747|19|M|other|93612\\n748|28|M|administrator|94720\\n749|33|M|other|80919\\n750|28|M|administrator|32303\\n751|24|F|other|90034\\n752|60|M|retired|21201\\n753|56|M|salesman|91206\\n754|59|F|librarian|62901\\n755|44|F|educator|97007\\n756|30|F|none|90247\\n757|26|M|student|55104\\n758|27|M|student|53706\\n759|20|F|student|68503\\n760|35|F|other|14211\\n761|17|M|student|97302\\n762|32|M|administrator|95050\\n763|27|M|scientist|02113\\n764|27|F|educator|62903\\n765|31|M|student|33066\\n766|42|M|other|10960\\n767|70|M|engineer|00000\\n768|29|M|administrator|12866\\n769|39|M|executive|06927\\n770|28|M|student|14216\\n771|26|M|student|15232\\n772|50|M|writer|27105\\n773|20|M|student|55414\\n774|30|M|student|80027\\n775|46|M|executive|90036\\n776|30|M|librarian|51157\\n777|63|M|programmer|01810\\n778|34|M|student|01960\\n779|31|M|student|K7L5J\\n780|49|M|programmer|94560\\n781|20|M|student|48825\\n782|21|F|artist|33205\\n783|30|M|marketing|77081\\n784|47|M|administrator|91040\\n785|32|M|engineer|23322\\n786|36|F|engineer|01754\\n787|18|F|student|98620\\n788|51|M|administrator|05779\\n789|29|M|other|55420\\n790|27|M|technician|80913\\n791|31|M|educator|20064\\n792|40|M|programmer|12205\\n793|22|M|student|85281\\n794|32|M|educator|57197\\n795|30|M|programmer|08610\\n796|32|F|writer|33755\\n797|44|F|other|62522\\n798|40|F|writer|64131\\n799|49|F|administrator|19716\\n800|25|M|programmer|55337\\n801|22|M|writer|92154\\n802|35|M|administrator|34105\\n803|70|M|administrator|78212\\n804|39|M|educator|61820\\n805|27|F|other|20009\\n806|27|M|marketing|11217\\n807|41|F|healthcare|93555\\n808|45|M|salesman|90016\\n809|50|F|marketing|30803\\n810|55|F|other|80526\\n811|40|F|educator|73013\\n812|22|M|technician|76234\\n813|14|F|student|02136\\n814|30|M|other|12345\\n815|32|M|other|28806\\n816|34|M|other|20755\\n817|19|M|student|60152\\n818|28|M|librarian|27514\\n819|59|M|administrator|40205\\n820|22|M|student|37725\\n821|37|M|engineer|77845\\n822|29|F|librarian|53144\\n823|27|M|artist|50322\\n824|31|M|other|15017\\n825|44|M|engineer|05452\\n826|28|M|artist|77048\\n827|23|F|engineer|80228\\n828|28|M|librarian|85282\\n829|48|M|writer|80209\\n830|46|M|programmer|53066\\n831|21|M|other|33765\\n832|24|M|technician|77042\\n833|34|M|writer|90019\\n834|26|M|other|64153\\n835|44|F|executive|11577\\n836|44|M|artist|10018\\n837|36|F|artist|55409\\n838|23|M|student|01375\\n839|38|F|entertainment|90814\\n840|39|M|artist|55406\\n841|45|M|doctor|47401\\n842|40|M|writer|93055\\n843|35|M|librarian|44212\\n844|22|M|engineer|95662\\n845|64|M|doctor|97405\\n846|27|M|lawyer|47130\\n847|29|M|student|55417\\n848|46|M|engineer|02146\\n849|15|F|student|25652\\n850|34|M|technician|78390\\n851|18|M|other|29646\\n852|46|M|administrator|94086\\n853|49|M|writer|40515\\n854|29|F|student|55408\\n855|53|M|librarian|04988\\n856|43|F|marketing|97215\\n857|35|F|administrator|V1G4L\\n858|63|M|educator|09645\\n859|18|F|other|06492\\n860|70|F|retired|48322\\n861|38|F|student|14085\\n862|25|M|executive|13820\\n863|17|M|student|60089\\n864|27|M|programmer|63021\\n865|25|M|artist|11231\\n866|45|M|other|60302\\n867|24|M|scientist|92507\\n868|21|M|programmer|55303\\n869|30|M|student|10025\\n870|22|M|student|65203\\n871|31|M|executive|44648\\n872|19|F|student|74078\\n873|48|F|administrator|33763\\n874|36|M|scientist|37076\\n875|24|F|student|35802\\n876|41|M|other|20902\\n877|30|M|other|77504\\n878|50|F|educator|98027\\n879|33|F|administrator|55337\\n880|13|M|student|83702\\n881|39|M|marketing|43017\\n882|35|M|engineer|40503\\n883|49|M|librarian|50266\\n884|44|M|engineer|55337\\n885|30|F|other|95316\\n886|20|M|student|61820\\n887|14|F|student|27249\\n888|41|M|scientist|17036\\n889|24|M|technician|78704\\n890|32|M|student|97301\\n891|51|F|administrator|03062\\n892|36|M|other|45243\\n893|25|M|student|95823\\n894|47|M|educator|74075\\n895|31|F|librarian|32301\\n896|28|M|writer|91505\\n897|30|M|other|33484\\n898|23|M|homemaker|61755\\n899|32|M|other|55116\\n900|60|M|retired|18505\\n901|38|M|executive|L1V3W\\n902|45|F|artist|97203\\n903|28|M|educator|20850\\n904|17|F|student|61073\\n905|27|M|other|30350\\n906|45|M|librarian|70124\\n907|25|F|other|80526\\n908|44|F|librarian|68504\\n909|50|F|educator|53171\\n910|28|M|healthcare|29301\\n911|37|F|writer|53210\\n912|51|M|other|06512\\n913|27|M|student|76201\\n914|44|F|other|08105\\n915|50|M|entertainment|60614\\n916|27|M|engineer|N2L5N\\n917|22|F|student|20006\\n918|40|M|scientist|70116\\n919|25|M|other|14216\\n920|30|F|artist|90008\\n921|20|F|student|98801\\n922|29|F|administrator|21114\\n923|21|M|student|E2E3R\\n924|29|M|other|11753\\n925|18|F|salesman|49036\\n926|49|M|entertainment|01701\\n927|23|M|programmer|55428\\n928|21|M|student|55408\\n929|44|M|scientist|53711\\n930|28|F|scientist|07310\\n931|60|M|educator|33556\\n932|58|M|educator|06437\\n933|28|M|student|48105\\n934|61|M|engineer|22902\\n935|42|M|doctor|66221\\n936|24|M|other|32789\\n937|48|M|educator|98072\\n938|38|F|technician|55038\\n939|26|F|student|33319\\n940|32|M|administrator|02215\\n941|20|M|student|97229\\n942|48|F|librarian|78209\\n943|22|M|student|77841\\n'"
      ]
     },
     "execution_count": 3,
     "metadata": {},
     "output_type": "execute_result"
    }
   ],
   "source": [
    "response.content"
   ]
  },
  {
   "cell_type": "markdown",
   "id": "9544bf56",
   "metadata": {},
   "source": [
    "### Step 4. See the first 25 entries"
   ]
  },
  {
   "cell_type": "code",
   "execution_count": 4,
   "id": "8120c983",
   "metadata": {},
   "outputs": [],
   "source": [
    "# from bs4 import BeautifulSoup\n",
    "# soup = BeautifulSoup(response.text, 'html.parser')\n",
    "target_csv_path = \"nba_all_elo.csv\"\n",
    "with open(target_csv_path, \"wb\") as f:\n",
    "    f.write(response.content)"
   ]
  },
  {
   "cell_type": "code",
   "execution_count": 5,
   "id": "53be2aab",
   "metadata": {},
   "outputs": [
    {
     "data": {
      "text/html": [
       "<div>\n",
       "<style scoped>\n",
       "    .dataframe tbody tr th:only-of-type {\n",
       "        vertical-align: middle;\n",
       "    }\n",
       "\n",
       "    .dataframe tbody tr th {\n",
       "        vertical-align: top;\n",
       "    }\n",
       "\n",
       "    .dataframe thead th {\n",
       "        text-align: right;\n",
       "    }\n",
       "</style>\n",
       "<table border=\"1\" class=\"dataframe\">\n",
       "  <thead>\n",
       "    <tr style=\"text-align: right;\">\n",
       "      <th></th>\n",
       "      <th>age</th>\n",
       "      <th>gender</th>\n",
       "      <th>occupation</th>\n",
       "      <th>zip_code</th>\n",
       "    </tr>\n",
       "    <tr>\n",
       "      <th>user_id</th>\n",
       "      <th></th>\n",
       "      <th></th>\n",
       "      <th></th>\n",
       "      <th></th>\n",
       "    </tr>\n",
       "  </thead>\n",
       "  <tbody>\n",
       "    <tr>\n",
       "      <th>1</th>\n",
       "      <td>24</td>\n",
       "      <td>M</td>\n",
       "      <td>technician</td>\n",
       "      <td>85711</td>\n",
       "    </tr>\n",
       "    <tr>\n",
       "      <th>2</th>\n",
       "      <td>53</td>\n",
       "      <td>F</td>\n",
       "      <td>other</td>\n",
       "      <td>94043</td>\n",
       "    </tr>\n",
       "    <tr>\n",
       "      <th>3</th>\n",
       "      <td>23</td>\n",
       "      <td>M</td>\n",
       "      <td>writer</td>\n",
       "      <td>32067</td>\n",
       "    </tr>\n",
       "    <tr>\n",
       "      <th>4</th>\n",
       "      <td>24</td>\n",
       "      <td>M</td>\n",
       "      <td>technician</td>\n",
       "      <td>43537</td>\n",
       "    </tr>\n",
       "    <tr>\n",
       "      <th>5</th>\n",
       "      <td>33</td>\n",
       "      <td>F</td>\n",
       "      <td>other</td>\n",
       "      <td>15213</td>\n",
       "    </tr>\n",
       "    <tr>\n",
       "      <th>...</th>\n",
       "      <td>...</td>\n",
       "      <td>...</td>\n",
       "      <td>...</td>\n",
       "      <td>...</td>\n",
       "    </tr>\n",
       "    <tr>\n",
       "      <th>939</th>\n",
       "      <td>26</td>\n",
       "      <td>F</td>\n",
       "      <td>student</td>\n",
       "      <td>33319</td>\n",
       "    </tr>\n",
       "    <tr>\n",
       "      <th>940</th>\n",
       "      <td>32</td>\n",
       "      <td>M</td>\n",
       "      <td>administrator</td>\n",
       "      <td>02215</td>\n",
       "    </tr>\n",
       "    <tr>\n",
       "      <th>941</th>\n",
       "      <td>20</td>\n",
       "      <td>M</td>\n",
       "      <td>student</td>\n",
       "      <td>97229</td>\n",
       "    </tr>\n",
       "    <tr>\n",
       "      <th>942</th>\n",
       "      <td>48</td>\n",
       "      <td>F</td>\n",
       "      <td>librarian</td>\n",
       "      <td>78209</td>\n",
       "    </tr>\n",
       "    <tr>\n",
       "      <th>943</th>\n",
       "      <td>22</td>\n",
       "      <td>M</td>\n",
       "      <td>student</td>\n",
       "      <td>77841</td>\n",
       "    </tr>\n",
       "  </tbody>\n",
       "</table>\n",
       "<p>943 rows × 4 columns</p>\n",
       "</div>"
      ],
      "text/plain": [
       "         age gender     occupation zip_code\n",
       "user_id                                    \n",
       "1         24      M     technician    85711\n",
       "2         53      F          other    94043\n",
       "3         23      M         writer    32067\n",
       "4         24      M     technician    43537\n",
       "5         33      F          other    15213\n",
       "...      ...    ...            ...      ...\n",
       "939       26      F        student    33319\n",
       "940       32      M  administrator    02215\n",
       "941       20      M        student    97229\n",
       "942       48      F      librarian    78209\n",
       "943       22      M        student    77841\n",
       "\n",
       "[943 rows x 4 columns]"
      ]
     },
     "execution_count": 5,
     "metadata": {},
     "output_type": "execute_result"
    }
   ],
   "source": [
    "df = pd.read_csv(r\"C:\\Users\\Laptop\\Data science Deploma\\material(tasks)\\W1_D2_panda\\nba_all_elo.csv\", sep=\"|\", index_col=\"user_id\")\n",
    "df"
   ]
  },
  {
   "cell_type": "markdown",
   "id": "360d982f",
   "metadata": {},
   "source": [
    "### Step 5. See the last 10 entries"
   ]
  },
  {
   "cell_type": "code",
   "execution_count": 6,
   "id": "7578e8a2",
   "metadata": {},
   "outputs": [
    {
     "data": {
      "text/html": [
       "<div>\n",
       "<style scoped>\n",
       "    .dataframe tbody tr th:only-of-type {\n",
       "        vertical-align: middle;\n",
       "    }\n",
       "\n",
       "    .dataframe tbody tr th {\n",
       "        vertical-align: top;\n",
       "    }\n",
       "\n",
       "    .dataframe thead th {\n",
       "        text-align: right;\n",
       "    }\n",
       "</style>\n",
       "<table border=\"1\" class=\"dataframe\">\n",
       "  <thead>\n",
       "    <tr style=\"text-align: right;\">\n",
       "      <th></th>\n",
       "      <th>age</th>\n",
       "      <th>gender</th>\n",
       "      <th>occupation</th>\n",
       "      <th>zip_code</th>\n",
       "    </tr>\n",
       "    <tr>\n",
       "      <th>user_id</th>\n",
       "      <th></th>\n",
       "      <th></th>\n",
       "      <th></th>\n",
       "      <th></th>\n",
       "    </tr>\n",
       "  </thead>\n",
       "  <tbody>\n",
       "    <tr>\n",
       "      <th>939</th>\n",
       "      <td>26</td>\n",
       "      <td>F</td>\n",
       "      <td>student</td>\n",
       "      <td>33319</td>\n",
       "    </tr>\n",
       "    <tr>\n",
       "      <th>940</th>\n",
       "      <td>32</td>\n",
       "      <td>M</td>\n",
       "      <td>administrator</td>\n",
       "      <td>02215</td>\n",
       "    </tr>\n",
       "    <tr>\n",
       "      <th>941</th>\n",
       "      <td>20</td>\n",
       "      <td>M</td>\n",
       "      <td>student</td>\n",
       "      <td>97229</td>\n",
       "    </tr>\n",
       "    <tr>\n",
       "      <th>942</th>\n",
       "      <td>48</td>\n",
       "      <td>F</td>\n",
       "      <td>librarian</td>\n",
       "      <td>78209</td>\n",
       "    </tr>\n",
       "    <tr>\n",
       "      <th>943</th>\n",
       "      <td>22</td>\n",
       "      <td>M</td>\n",
       "      <td>student</td>\n",
       "      <td>77841</td>\n",
       "    </tr>\n",
       "  </tbody>\n",
       "</table>\n",
       "</div>"
      ],
      "text/plain": [
       "         age gender     occupation zip_code\n",
       "user_id                                    \n",
       "939       26      F        student    33319\n",
       "940       32      M  administrator    02215\n",
       "941       20      M        student    97229\n",
       "942       48      F      librarian    78209\n",
       "943       22      M        student    77841"
      ]
     },
     "execution_count": 6,
     "metadata": {},
     "output_type": "execute_result"
    }
   ],
   "source": [
    "df.tail(5)"
   ]
  },
  {
   "cell_type": "markdown",
   "id": "5f82ef4f",
   "metadata": {},
   "source": [
    "### Step 6. What is the number of observations in the dataset?"
   ]
  },
  {
   "cell_type": "code",
   "execution_count": 7,
   "id": "bdf76391",
   "metadata": {},
   "outputs": [
    {
     "data": {
      "text/plain": [
       "943"
      ]
     },
     "execution_count": 7,
     "metadata": {},
     "output_type": "execute_result"
    }
   ],
   "source": [
    "# Using len() The most simple and clear way to compute the row count of a DataFrame is to use len() built-in method: >>> len(df)\n",
    "# Using shape. Alternatively, you can even use pandas.\n",
    "# Using count()\n",
    "### first method ###\n",
    "len(df)\n",
    "### second method ###\n",
    "len(df.index)\n",
    "### third method ###\n",
    "df.shape[0]\n"
   ]
  },
  {
   "cell_type": "markdown",
   "id": "68eac311",
   "metadata": {},
   "source": [
    "### Step 8. Print the name of all the columns."
   ]
  },
  {
   "cell_type": "code",
   "execution_count": 23,
   "id": "fe6e9295",
   "metadata": {},
   "outputs": [
    {
     "name": "stdout",
     "output_type": "stream",
     "text": [
      "Index(['age', 'gender', 'occupation', 'zip_code'], dtype='object')\n"
     ]
    }
   ],
   "source": [
    "# Get the Column Names Using the columns() Method. ...\n",
    "print(df.columns)"
   ]
  },
  {
   "cell_type": "code",
   "execution_count": 24,
   "id": "a85451a6",
   "metadata": {},
   "outputs": [
    {
     "name": "stdout",
     "output_type": "stream",
     "text": [
      "Index(['age', 'gender', 'occupation', 'zip_code'], dtype='object')\n"
     ]
    }
   ],
   "source": [
    "# Using the keys() Method. ...\n",
    "print(df.keys())"
   ]
  },
  {
   "cell_type": "code",
   "execution_count": 25,
   "id": "0f68a20a",
   "metadata": {},
   "outputs": [
    {
     "name": "stdout",
     "output_type": "stream",
     "text": [
      "age\n",
      "gender\n",
      "occupation\n",
      "zip_code\n"
     ]
    }
   ],
   "source": [
    "# By Iterating of the Columns. ...\n",
    "for col_name in df.columns: \n",
    "    print(col_name)"
   ]
  },
  {
   "cell_type": "code",
   "execution_count": 26,
   "id": "63fbe32d",
   "metadata": {},
   "outputs": [
    {
     "name": "stdout",
     "output_type": "stream",
     "text": [
      "['age', 'gender', 'occupation', 'zip_code']\n"
     ]
    }
   ],
   "source": [
    "# Using list() to Print the Names as a list. ...\n",
    "print(list(df.columns))"
   ]
  },
  {
   "cell_type": "code",
   "execution_count": 27,
   "id": "0fc94db6",
   "metadata": {},
   "outputs": [
    {
     "name": "stdout",
     "output_type": "stream",
     "text": [
      "['age', 'gender', 'occupation', 'zip_code']\n"
     ]
    }
   ],
   "source": [
    "# Using tolist() to Print the Names as a List. ...\n",
    "print(df.columns.values.tolist())"
   ]
  },
  {
   "cell_type": "code",
   "execution_count": 28,
   "id": "d1b4f287",
   "metadata": {},
   "outputs": [
    {
     "data": {
      "text/plain": [
       "['age', 'gender', 'occupation', 'zip_code']"
      ]
     },
     "execution_count": 28,
     "metadata": {},
     "output_type": "execute_result"
    }
   ],
   "source": [
    "# Using sorted() to Get an Ordered List.\n",
    "sorted(df)"
   ]
  },
  {
   "cell_type": "markdown",
   "id": "63894580",
   "metadata": {},
   "source": [
    "### Step 9. How is the dataset indexed?"
   ]
  },
  {
   "cell_type": "code",
   "execution_count": 9,
   "id": "dea81f05",
   "metadata": {},
   "outputs": [
    {
     "data": {
      "text/plain": [
       "Int64Index([  1,   2,   3,   4,   5,   6,   7,   8,   9,  10,\n",
       "            ...\n",
       "            934, 935, 936, 937, 938, 939, 940, 941, 942, 943],\n",
       "           dtype='int64', name='user_id', length=943)"
      ]
     },
     "execution_count": 9,
     "metadata": {},
     "output_type": "execute_result"
    }
   ],
   "source": [
    "df.index"
   ]
  },
  {
   "cell_type": "markdown",
   "id": "ef0d37e2",
   "metadata": {},
   "source": [
    "### Step 10. What is the data type of each column?"
   ]
  },
  {
   "cell_type": "code",
   "execution_count": 10,
   "id": "99e5b8e1",
   "metadata": {},
   "outputs": [
    {
     "data": {
      "text/plain": [
       "age            int64\n",
       "gender        object\n",
       "occupation    object\n",
       "zip_code      object\n",
       "dtype: object"
      ]
     },
     "execution_count": 10,
     "metadata": {},
     "output_type": "execute_result"
    }
   ],
   "source": [
    "df.dtypes"
   ]
  },
  {
   "cell_type": "markdown",
   "id": "cc2537b1",
   "metadata": {},
   "source": [
    "### Step 11. Print only the occupation column"
   ]
  },
  {
   "cell_type": "code",
   "execution_count": 11,
   "id": "16ed01dc",
   "metadata": {},
   "outputs": [
    {
     "data": {
      "text/plain": [
       "user_id\n",
       "1         technician\n",
       "2              other\n",
       "3             writer\n",
       "4         technician\n",
       "5              other\n",
       "           ...      \n",
       "939          student\n",
       "940    administrator\n",
       "941          student\n",
       "942        librarian\n",
       "943          student\n",
       "Name: occupation, Length: 943, dtype: object"
      ]
     },
     "execution_count": 11,
     "metadata": {},
     "output_type": "execute_result"
    }
   ],
   "source": [
    "df[\"occupation\"]"
   ]
  },
  {
   "cell_type": "markdown",
   "id": "a1ec0e54",
   "metadata": {},
   "source": [
    "### Step 12. How many different occupations are in this dataset?"
   ]
  },
  {
   "cell_type": "code",
   "execution_count": 12,
   "id": "9ada2dbb",
   "metadata": {},
   "outputs": [
    {
     "data": {
      "text/plain": [
       "21"
      ]
     },
     "execution_count": 12,
     "metadata": {},
     "output_type": "execute_result"
    }
   ],
   "source": [
    "df[\"occupation\"].value_counts().count()"
   ]
  },
  {
   "cell_type": "markdown",
   "id": "4f9c74f7",
   "metadata": {},
   "source": [
    "### Step 13. What is the most frequent occupation?"
   ]
  },
  {
   "cell_type": "code",
   "execution_count": 14,
   "id": "ba116094",
   "metadata": {},
   "outputs": [
    {
     "data": {
      "text/plain": [
       "student          196\n",
       "other            105\n",
       "educator          95\n",
       "administrator     79\n",
       "engineer          67\n",
       "Name: occupation, dtype: int64"
      ]
     },
     "execution_count": 14,
     "metadata": {},
     "output_type": "execute_result"
    }
   ],
   "source": [
    "df[\"occupation\"].value_counts().sort_values(ascending=False).head()"
   ]
  },
  {
   "cell_type": "markdown",
   "id": "a924e4c9",
   "metadata": {},
   "source": [
    "### Step 14. Summarize the DataFrame."
   ]
  },
  {
   "cell_type": "code",
   "execution_count": 15,
   "id": "7f65a9d7",
   "metadata": {},
   "outputs": [
    {
     "data": {
      "text/html": [
       "<div>\n",
       "<style scoped>\n",
       "    .dataframe tbody tr th:only-of-type {\n",
       "        vertical-align: middle;\n",
       "    }\n",
       "\n",
       "    .dataframe tbody tr th {\n",
       "        vertical-align: top;\n",
       "    }\n",
       "\n",
       "    .dataframe thead th {\n",
       "        text-align: right;\n",
       "    }\n",
       "</style>\n",
       "<table border=\"1\" class=\"dataframe\">\n",
       "  <thead>\n",
       "    <tr style=\"text-align: right;\">\n",
       "      <th></th>\n",
       "      <th>age</th>\n",
       "    </tr>\n",
       "  </thead>\n",
       "  <tbody>\n",
       "    <tr>\n",
       "      <th>count</th>\n",
       "      <td>943.000000</td>\n",
       "    </tr>\n",
       "    <tr>\n",
       "      <th>mean</th>\n",
       "      <td>34.051962</td>\n",
       "    </tr>\n",
       "    <tr>\n",
       "      <th>std</th>\n",
       "      <td>12.192740</td>\n",
       "    </tr>\n",
       "    <tr>\n",
       "      <th>min</th>\n",
       "      <td>7.000000</td>\n",
       "    </tr>\n",
       "    <tr>\n",
       "      <th>25%</th>\n",
       "      <td>25.000000</td>\n",
       "    </tr>\n",
       "    <tr>\n",
       "      <th>50%</th>\n",
       "      <td>31.000000</td>\n",
       "    </tr>\n",
       "    <tr>\n",
       "      <th>75%</th>\n",
       "      <td>43.000000</td>\n",
       "    </tr>\n",
       "    <tr>\n",
       "      <th>max</th>\n",
       "      <td>73.000000</td>\n",
       "    </tr>\n",
       "  </tbody>\n",
       "</table>\n",
       "</div>"
      ],
      "text/plain": [
       "              age\n",
       "count  943.000000\n",
       "mean    34.051962\n",
       "std     12.192740\n",
       "min      7.000000\n",
       "25%     25.000000\n",
       "50%     31.000000\n",
       "75%     43.000000\n",
       "max     73.000000"
      ]
     },
     "execution_count": 15,
     "metadata": {},
     "output_type": "execute_result"
    }
   ],
   "source": [
    "df.describe()"
   ]
  },
  {
   "cell_type": "markdown",
   "id": "7bbcf034",
   "metadata": {},
   "source": [
    "### Step 15. Summarize all the columns"
   ]
  },
  {
   "cell_type": "code",
   "execution_count": 17,
   "id": "46df2491",
   "metadata": {},
   "outputs": [
    {
     "data": {
      "text/html": [
       "<div>\n",
       "<style scoped>\n",
       "    .dataframe tbody tr th:only-of-type {\n",
       "        vertical-align: middle;\n",
       "    }\n",
       "\n",
       "    .dataframe tbody tr th {\n",
       "        vertical-align: top;\n",
       "    }\n",
       "\n",
       "    .dataframe thead th {\n",
       "        text-align: right;\n",
       "    }\n",
       "</style>\n",
       "<table border=\"1\" class=\"dataframe\">\n",
       "  <thead>\n",
       "    <tr style=\"text-align: right;\">\n",
       "      <th></th>\n",
       "      <th>age</th>\n",
       "      <th>gender</th>\n",
       "      <th>occupation</th>\n",
       "      <th>zip_code</th>\n",
       "    </tr>\n",
       "  </thead>\n",
       "  <tbody>\n",
       "    <tr>\n",
       "      <th>count</th>\n",
       "      <td>943.000000</td>\n",
       "      <td>943</td>\n",
       "      <td>943</td>\n",
       "      <td>943</td>\n",
       "    </tr>\n",
       "    <tr>\n",
       "      <th>unique</th>\n",
       "      <td>NaN</td>\n",
       "      <td>2</td>\n",
       "      <td>21</td>\n",
       "      <td>795</td>\n",
       "    </tr>\n",
       "    <tr>\n",
       "      <th>top</th>\n",
       "      <td>NaN</td>\n",
       "      <td>M</td>\n",
       "      <td>student</td>\n",
       "      <td>55414</td>\n",
       "    </tr>\n",
       "    <tr>\n",
       "      <th>freq</th>\n",
       "      <td>NaN</td>\n",
       "      <td>670</td>\n",
       "      <td>196</td>\n",
       "      <td>9</td>\n",
       "    </tr>\n",
       "    <tr>\n",
       "      <th>mean</th>\n",
       "      <td>34.051962</td>\n",
       "      <td>NaN</td>\n",
       "      <td>NaN</td>\n",
       "      <td>NaN</td>\n",
       "    </tr>\n",
       "    <tr>\n",
       "      <th>std</th>\n",
       "      <td>12.192740</td>\n",
       "      <td>NaN</td>\n",
       "      <td>NaN</td>\n",
       "      <td>NaN</td>\n",
       "    </tr>\n",
       "    <tr>\n",
       "      <th>min</th>\n",
       "      <td>7.000000</td>\n",
       "      <td>NaN</td>\n",
       "      <td>NaN</td>\n",
       "      <td>NaN</td>\n",
       "    </tr>\n",
       "    <tr>\n",
       "      <th>25%</th>\n",
       "      <td>25.000000</td>\n",
       "      <td>NaN</td>\n",
       "      <td>NaN</td>\n",
       "      <td>NaN</td>\n",
       "    </tr>\n",
       "    <tr>\n",
       "      <th>50%</th>\n",
       "      <td>31.000000</td>\n",
       "      <td>NaN</td>\n",
       "      <td>NaN</td>\n",
       "      <td>NaN</td>\n",
       "    </tr>\n",
       "    <tr>\n",
       "      <th>75%</th>\n",
       "      <td>43.000000</td>\n",
       "      <td>NaN</td>\n",
       "      <td>NaN</td>\n",
       "      <td>NaN</td>\n",
       "    </tr>\n",
       "    <tr>\n",
       "      <th>max</th>\n",
       "      <td>73.000000</td>\n",
       "      <td>NaN</td>\n",
       "      <td>NaN</td>\n",
       "      <td>NaN</td>\n",
       "    </tr>\n",
       "  </tbody>\n",
       "</table>\n",
       "</div>"
      ],
      "text/plain": [
       "               age gender occupation zip_code\n",
       "count   943.000000    943        943      943\n",
       "unique         NaN      2         21      795\n",
       "top            NaN      M    student    55414\n",
       "freq           NaN    670        196        9\n",
       "mean     34.051962    NaN        NaN      NaN\n",
       "std      12.192740    NaN        NaN      NaN\n",
       "min       7.000000    NaN        NaN      NaN\n",
       "25%      25.000000    NaN        NaN      NaN\n",
       "50%      31.000000    NaN        NaN      NaN\n",
       "75%      43.000000    NaN        NaN      NaN\n",
       "max      73.000000    NaN        NaN      NaN"
      ]
     },
     "execution_count": 17,
     "metadata": {},
     "output_type": "execute_result"
    }
   ],
   "source": [
    "df.describe(include=\"all\")\n"
   ]
  },
  {
   "cell_type": "markdown",
   "id": "af5dfe78",
   "metadata": {},
   "source": [
    "### Step 16. Summarize only the occupation column"
   ]
  },
  {
   "cell_type": "code",
   "execution_count": 18,
   "id": "eef16542",
   "metadata": {},
   "outputs": [
    {
     "data": {
      "text/plain": [
       "count         943\n",
       "unique         21\n",
       "top       student\n",
       "freq          196\n",
       "Name: occupation, dtype: object"
      ]
     },
     "execution_count": 18,
     "metadata": {},
     "output_type": "execute_result"
    }
   ],
   "source": [
    "df.occupation.describe()"
   ]
  },
  {
   "cell_type": "markdown",
   "id": "3624d98f",
   "metadata": {},
   "source": [
    "### Step 17. What is the mean age of users?"
   ]
  },
  {
   "cell_type": "code",
   "execution_count": 19,
   "id": "d0ec60ec",
   "metadata": {},
   "outputs": [
    {
     "data": {
      "text/plain": [
       "count    943.000000\n",
       "mean      34.051962\n",
       "std       12.192740\n",
       "min        7.000000\n",
       "25%       25.000000\n",
       "50%       31.000000\n",
       "75%       43.000000\n",
       "max       73.000000\n",
       "Name: age, dtype: float64"
      ]
     },
     "execution_count": 19,
     "metadata": {},
     "output_type": "execute_result"
    }
   ],
   "source": [
    "df.age.describe()"
   ]
  },
  {
   "cell_type": "markdown",
   "id": "7cd596f2",
   "metadata": {},
   "source": [
    "### Step 18. What is the age with least occurrence?"
   ]
  },
  {
   "cell_type": "code",
   "execution_count": 22,
   "id": "a20987b9",
   "metadata": {},
   "outputs": [
    {
     "data": {
      "text/plain": [
       "73    1\n",
       "7     1\n",
       "10    1\n",
       "11    1\n",
       "66    1\n",
       "Name: age, dtype: int64"
      ]
     },
     "execution_count": 22,
     "metadata": {},
     "output_type": "execute_result"
    }
   ],
   "source": [
    "df[\"age\"].value_counts().sort_values().head()"
   ]
  }
 ],
 "metadata": {
  "kernelspec": {
   "display_name": "Python 3 (ipykernel)",
   "language": "python",
   "name": "python3"
  },
  "language_info": {
   "codemirror_mode": {
    "name": "ipython",
    "version": 3
   },
   "file_extension": ".py",
   "mimetype": "text/x-python",
   "name": "python",
   "nbconvert_exporter": "python",
   "pygments_lexer": "ipython3",
   "version": "3.9.12"
  }
 },
 "nbformat": 4,
 "nbformat_minor": 5
}
