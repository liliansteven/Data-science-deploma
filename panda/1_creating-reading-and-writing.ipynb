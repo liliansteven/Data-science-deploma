{
 "cells": [
  {
   "cell_type": "markdown",
   "id": "0965e440",
   "metadata": {
    "papermill": {
     "duration": 0.012666,
     "end_time": "2022-02-08T16:44:11.749153",
     "exception": false,
     "start_time": "2022-02-08T16:44:11.736487",
     "status": "completed"
    },
    "tags": []
   },
   "source": [
    "\n",
    "# Getting started\n",
    "\n",
    "To use pandas, you'll typically start with the following line of code."
   ]
  },
  {
   "cell_type": "code",
   "execution_count": 7,
   "id": "d4137d7a",
   "metadata": {
    "execution": {
     "iopub.execute_input": "2022-02-08T16:44:11.776774Z",
     "iopub.status.busy": "2022-02-08T16:44:11.775483Z",
     "iopub.status.idle": "2022-02-08T16:44:11.784138Z",
     "shell.execute_reply": "2022-02-08T16:44:11.784541Z"
    },
    "papermill": {
     "duration": 0.023901,
     "end_time": "2022-02-08T16:44:11.784806",
     "exception": false,
     "start_time": "2022-02-08T16:44:11.760905",
     "status": "completed"
    },
    "tags": []
   },
   "outputs": [
    {
     "name": "stdout",
     "output_type": "stream",
     "text": [
      "60\n"
     ]
    }
   ],
   "source": [
    "import pandas as pd\n",
    "\n",
    "print(pd.options.display.max_rows)"
   ]
  },
  {
   "cell_type": "markdown",
   "id": "8dd3cf51",
   "metadata": {
    "papermill": {
     "duration": 0.011055,
     "end_time": "2022-02-08T16:44:11.807253",
     "exception": false,
     "start_time": "2022-02-08T16:44:11.796198",
     "status": "completed"
    },
    "tags": []
   },
   "source": [
    "# Creating data\n",
    "\n",
    "There are two core objects in pandas: the **DataFrame** and the **Series**.\n",
    "\n",
    "### DataFrame\n",
    "\n",
    "A DataFrame is a table. It contains an array of individual *entries*, each of which has a certain *value*. Each entry corresponds to a row (or *record*) and a *column*.\n",
    "\n",
    "For example, consider the following simple DataFrame:"
   ]
  },
  {
   "cell_type": "code",
   "execution_count": 8,
   "id": "b2b60485",
   "metadata": {
    "execution": {
     "iopub.execute_input": "2022-02-08T16:44:11.832340Z",
     "iopub.status.busy": "2022-02-08T16:44:11.831829Z",
     "iopub.status.idle": "2022-02-08T16:44:11.852043Z",
     "shell.execute_reply": "2022-02-08T16:44:11.851494Z"
    },
    "papermill": {
     "duration": 0.033863,
     "end_time": "2022-02-08T16:44:11.852153",
     "exception": false,
     "start_time": "2022-02-08T16:44:11.818290",
     "status": "completed"
    },
    "tags": []
   },
   "outputs": [
    {
     "data": {
      "text/html": [
       "<div>\n",
       "<style scoped>\n",
       "    .dataframe tbody tr th:only-of-type {\n",
       "        vertical-align: middle;\n",
       "    }\n",
       "\n",
       "    .dataframe tbody tr th {\n",
       "        vertical-align: top;\n",
       "    }\n",
       "\n",
       "    .dataframe thead th {\n",
       "        text-align: right;\n",
       "    }\n",
       "</style>\n",
       "<table border=\"1\" class=\"dataframe\">\n",
       "  <thead>\n",
       "    <tr style=\"text-align: right;\">\n",
       "      <th></th>\n",
       "      <th>Yes</th>\n",
       "      <th>No</th>\n",
       "    </tr>\n",
       "  </thead>\n",
       "  <tbody>\n",
       "    <tr>\n",
       "      <th>0</th>\n",
       "      <td>50</td>\n",
       "      <td>131</td>\n",
       "    </tr>\n",
       "    <tr>\n",
       "      <th>1</th>\n",
       "      <td>21</td>\n",
       "      <td>2</td>\n",
       "    </tr>\n",
       "  </tbody>\n",
       "</table>\n",
       "</div>"
      ],
      "text/plain": [
       "   Yes   No\n",
       "0   50  131\n",
       "1   21    2"
      ]
     },
     "execution_count": 8,
     "metadata": {},
     "output_type": "execute_result"
    }
   ],
   "source": [
    "ppd = pd.DataFrame({'Yes': [50, 21], 'No': [131, 2]})\n",
    "ppd"
   ]
  },
  {
   "cell_type": "markdown",
   "id": "823b803d",
   "metadata": {
    "papermill": {
     "duration": 0.011623,
     "end_time": "2022-02-08T16:44:11.876700",
     "exception": false,
     "start_time": "2022-02-08T16:44:11.865077",
     "status": "completed"
    },
    "tags": []
   },
   "source": [
    "In this example, the \"0, No\" entry has the value of 131. The \"0, Yes\" entry has a value of 50, and so on.\n",
    "\n",
    "DataFrame entries are not limited to integers. For instance, here's a DataFrame whose values are strings:"
   ]
  },
  {
   "cell_type": "code",
   "execution_count": 9,
   "id": "02a91d3b",
   "metadata": {
    "execution": {
     "iopub.execute_input": "2022-02-08T16:44:11.909772Z",
     "iopub.status.busy": "2022-02-08T16:44:11.909246Z",
     "iopub.status.idle": "2022-02-08T16:44:11.912296Z",
     "shell.execute_reply": "2022-02-08T16:44:11.912707Z"
    },
    "papermill": {
     "duration": 0.024118,
     "end_time": "2022-02-08T16:44:11.912835",
     "exception": false,
     "start_time": "2022-02-08T16:44:11.888717",
     "status": "completed"
    },
    "tags": []
   },
   "outputs": [
    {
     "name": "stdout",
     "output_type": "stream",
     "text": [
      "             Bob           Sue\n",
      "0    I liked it.  Pretty good.\n",
      "1  It was awful.        Bland.\n"
     ]
    }
   ],
   "source": [
    "print(pd.DataFrame({'Bob': ['I liked it.', 'It was awful.'], 'Sue': ['Pretty good.', 'Bland.']}))"
   ]
  },
  {
   "cell_type": "markdown",
   "id": "ecb643da",
   "metadata": {
    "papermill": {
     "duration": 0.011603,
     "end_time": "2022-02-08T16:44:11.936497",
     "exception": false,
     "start_time": "2022-02-08T16:44:11.924894",
     "status": "completed"
    },
    "tags": []
   },
   "source": [
    "We are using the `pd.DataFrame()` constructor to generate these DataFrame objects. The syntax for declaring a new one is a dictionary whose keys are the column names (`Bob` and `Sue` in this example), and whose values are a list of entries. This is the standard way of constructing a new DataFrame, and the one you are most likely to encounter."
   ]
  },
  {
   "cell_type": "markdown",
   "id": "ed45251e",
   "metadata": {
    "papermill": {
     "duration": 0.011872,
     "end_time": "2022-02-08T16:44:11.960307",
     "exception": false,
     "start_time": "2022-02-08T16:44:11.948435",
     "status": "completed"
    },
    "tags": []
   },
   "source": [
    "The dictionary-list constructor assigns values to the *column labels*, but just uses an ascending count from 0 (0, 1, 2, 3, ...) for the *row labels*. Sometimes this is OK, but oftentimes we will want to assign these labels ourselves.\n",
    "\n",
    "The list of row labels used in a DataFrame is known as an **Index**. We can assign values to it by using an `index` parameter in our constructor:"
   ]
  },
  {
   "cell_type": "code",
   "execution_count": 10,
   "id": "ef6c138a",
   "metadata": {
    "execution": {
     "iopub.execute_input": "2022-02-08T16:44:11.987868Z",
     "iopub.status.busy": "2022-02-08T16:44:11.987337Z",
     "iopub.status.idle": "2022-02-08T16:44:11.997244Z",
     "shell.execute_reply": "2022-02-08T16:44:11.997683Z"
    },
    "papermill": {
     "duration": 0.025686,
     "end_time": "2022-02-08T16:44:11.997828",
     "exception": false,
     "start_time": "2022-02-08T16:44:11.972142",
     "status": "completed"
    },
    "tags": []
   },
   "outputs": [
    {
     "data": {
      "text/html": [
       "<div>\n",
       "<style scoped>\n",
       "    .dataframe tbody tr th:only-of-type {\n",
       "        vertical-align: middle;\n",
       "    }\n",
       "\n",
       "    .dataframe tbody tr th {\n",
       "        vertical-align: top;\n",
       "    }\n",
       "\n",
       "    .dataframe thead th {\n",
       "        text-align: right;\n",
       "    }\n",
       "</style>\n",
       "<table border=\"1\" class=\"dataframe\">\n",
       "  <thead>\n",
       "    <tr style=\"text-align: right;\">\n",
       "      <th></th>\n",
       "      <th>Bob</th>\n",
       "      <th>Sue</th>\n",
       "    </tr>\n",
       "  </thead>\n",
       "  <tbody>\n",
       "    <tr>\n",
       "      <th>Product A</th>\n",
       "      <td>I liked it.</td>\n",
       "      <td>Pretty good.</td>\n",
       "    </tr>\n",
       "    <tr>\n",
       "      <th>Product B</th>\n",
       "      <td>It was awful.</td>\n",
       "      <td>Bland.</td>\n",
       "    </tr>\n",
       "  </tbody>\n",
       "</table>\n",
       "</div>"
      ],
      "text/plain": [
       "                     Bob           Sue\n",
       "Product A    I liked it.  Pretty good.\n",
       "Product B  It was awful.        Bland."
      ]
     },
     "execution_count": 10,
     "metadata": {},
     "output_type": "execute_result"
    }
   ],
   "source": [
    "pd.DataFrame({'Bob': ['I liked it.', 'It was awful.'], \n",
    "              'Sue': ['Pretty good.', 'Bland.']},\n",
    "             index=['Product A', 'Product B'])"
   ]
  },
  {
   "cell_type": "markdown",
   "id": "3ff45c17",
   "metadata": {
    "papermill": {
     "duration": 0.012192,
     "end_time": "2022-02-08T16:44:12.022721",
     "exception": false,
     "start_time": "2022-02-08T16:44:12.010529",
     "status": "completed"
    },
    "tags": []
   },
   "source": [
    "### Series\n",
    "\n",
    "A Series, by contrast, is a sequence of data values. If a DataFrame is a table, a Series is a list. And in fact you can create one with nothing more than a list:"
   ]
  },
  {
   "cell_type": "code",
   "execution_count": 11,
   "id": "74e9e853",
   "metadata": {
    "execution": {
     "iopub.execute_input": "2022-02-08T16:44:12.050097Z",
     "iopub.status.busy": "2022-02-08T16:44:12.049634Z",
     "iopub.status.idle": "2022-02-08T16:44:12.056573Z",
     "shell.execute_reply": "2022-02-08T16:44:12.057007Z"
    },
    "papermill": {
     "duration": 0.022218,
     "end_time": "2022-02-08T16:44:12.057157",
     "exception": false,
     "start_time": "2022-02-08T16:44:12.034939",
     "status": "completed"
    },
    "tags": []
   },
   "outputs": [
    {
     "name": "stdout",
     "output_type": "stream",
     "text": [
      "0    1\n",
      "1    2\n",
      "2    3\n",
      "3    4\n",
      "4    5\n",
      "dtype: int64\n"
     ]
    }
   ],
   "source": [
    "print(pd.Series([1, 2, 3, 4, 5]))"
   ]
  },
  {
   "cell_type": "markdown",
   "id": "e3818087",
   "metadata": {
    "papermill": {
     "duration": 0.012953,
     "end_time": "2022-02-08T16:44:12.083347",
     "exception": false,
     "start_time": "2022-02-08T16:44:12.070394",
     "status": "completed"
    },
    "tags": []
   },
   "source": [
    "A Series is, in essence, a single column of a DataFrame. So you can assign row labels to the Series the same way as before, using an `index` parameter. However, a Series does not have a column name, it only has one overall `name`:"
   ]
  },
  {
   "cell_type": "code",
   "execution_count": 12,
   "id": "22f8ee16",
   "metadata": {
    "execution": {
     "iopub.execute_input": "2022-02-08T16:44:12.113350Z",
     "iopub.status.busy": "2022-02-08T16:44:12.112754Z",
     "iopub.status.idle": "2022-02-08T16:44:12.119703Z",
     "shell.execute_reply": "2022-02-08T16:44:12.120163Z"
    },
    "papermill": {
     "duration": 0.023586,
     "end_time": "2022-02-08T16:44:12.120309",
     "exception": false,
     "start_time": "2022-02-08T16:44:12.096723",
     "status": "completed"
    },
    "tags": []
   },
   "outputs": [
    {
     "name": "stdout",
     "output_type": "stream",
     "text": [
      "2015 Sales    30\n",
      "2016 Sales    35\n",
      "2017 Sales    40\n",
      "Name: Product A, dtype: int64\n"
     ]
    }
   ],
   "source": [
    "print(pd.Series([30, 35, 40], index=['2015 Sales', '2016 Sales', '2017 Sales'], name='Product A'))"
   ]
  },
  {
   "cell_type": "markdown",
   "id": "7a99a7a5",
   "metadata": {
    "papermill": {
     "duration": 0.013097,
     "end_time": "2022-02-08T16:44:12.147400",
     "exception": false,
     "start_time": "2022-02-08T16:44:12.134303",
     "status": "completed"
    },
    "tags": []
   },
   "source": [
    "The Series and the DataFrame are intimately related. It's helpful to think of a DataFrame as actually being just a bunch of Series \"glued together\". We'll see more of this in the next section of this tutorial."
   ]
  },
  {
   "cell_type": "markdown",
   "id": "85b2b748",
   "metadata": {
    "papermill": {
     "duration": 0.013159,
     "end_time": "2022-02-08T16:44:12.174006",
     "exception": false,
     "start_time": "2022-02-08T16:44:12.160847",
     "status": "completed"
    },
    "tags": []
   },
   "source": [
    "# Reading data files\n",
    "\n",
    "Being able to create a DataFrame or Series by hand is handy. But, most of the time, we won't actually be creating our own data by hand. Instead, we'll be working with data that already exists.\n",
    "\n",
    "Data can be stored in any of a number of different forms and formats. By far the most basic of these is the humble CSV file. When you open a CSV file you get something that looks like this:\n",
    "\n",
    "```\n",
    "Product A,Product B,Product C,\n",
    "30,21,9,\n",
    "35,34,1,\n",
    "41,11,11\n",
    "```\n",
    "\n",
    "So a CSV file is a table of values separated by commas. Hence the name: \"Comma-Separated Values\", or CSV.\n",
    "\n",
    "Let's now set aside our toy datasets and see what a real dataset looks like when we read it into a DataFrame. We'll use the `pd.read_csv()` function to read the data into a DataFrame. This goes thusly:"
   ]
  },
  {
   "cell_type": "code",
   "execution_count": null,
   "id": "35e9ec36",
   "metadata": {
    "execution": {
     "iopub.execute_input": "2022-02-08T16:44:12.203757Z",
     "iopub.status.busy": "2022-02-08T16:44:12.203264Z",
     "iopub.status.idle": "2022-02-08T16:44:13.957373Z",
     "shell.execute_reply": "2022-02-08T16:44:13.956495Z"
    },
    "papermill": {
     "duration": 1.770035,
     "end_time": "2022-02-08T16:44:13.957517",
     "exception": false,
     "start_time": "2022-02-08T16:44:12.187482",
     "status": "completed"
    },
    "tags": []
   },
   "outputs": [],
   "source": [
    "wine_reviews = pd.read_csv(\"../input/wine-reviews/winemag-data-130k-v2.csv\")"
   ]
  },
  {
   "cell_type": "markdown",
   "id": "1d94e52b",
   "metadata": {
    "papermill": {
     "duration": 0.020353,
     "end_time": "2022-02-08T16:44:13.999010",
     "exception": false,
     "start_time": "2022-02-08T16:44:13.978657",
     "status": "completed"
    },
    "tags": []
   },
   "source": [
    "We can use the `shape` attribute to check how large the resulting DataFrame is:"
   ]
  },
  {
   "cell_type": "code",
   "execution_count": null,
   "id": "f6f7cc7e",
   "metadata": {
    "execution": {
     "iopub.execute_input": "2022-02-08T16:44:14.042926Z",
     "iopub.status.busy": "2022-02-08T16:44:14.042081Z",
     "iopub.status.idle": "2022-02-08T16:44:14.046194Z",
     "shell.execute_reply": "2022-02-08T16:44:14.046686Z"
    },
    "papermill": {
     "duration": 0.027361,
     "end_time": "2022-02-08T16:44:14.046842",
     "exception": false,
     "start_time": "2022-02-08T16:44:14.019481",
     "status": "completed"
    },
    "scrolled": false,
    "tags": []
   },
   "outputs": [],
   "source": [
    "wine_reviews.shape"
   ]
  },
  {
   "cell_type": "markdown",
   "id": "f4f85b09",
   "metadata": {
    "papermill": {
     "duration": 0.020579,
     "end_time": "2022-02-08T16:44:14.088257",
     "exception": false,
     "start_time": "2022-02-08T16:44:14.067678",
     "status": "completed"
    },
    "tags": []
   },
   "source": [
    "So our new DataFrame has 130,000 records split across 14 different columns. That's almost 2 million entries!\n",
    "\n",
    "We can examine the contents of the resultant DataFrame using the `head()` command, which grabs the first five rows:"
   ]
  },
  {
   "cell_type": "code",
   "execution_count": null,
   "id": "16dc5a61",
   "metadata": {
    "execution": {
     "iopub.execute_input": "2022-02-08T16:44:14.135182Z",
     "iopub.status.busy": "2022-02-08T16:44:14.134319Z",
     "iopub.status.idle": "2022-02-08T16:44:14.150126Z",
     "shell.execute_reply": "2022-02-08T16:44:14.149551Z"
    },
    "papermill": {
     "duration": 0.039396,
     "end_time": "2022-02-08T16:44:14.150269",
     "exception": false,
     "start_time": "2022-02-08T16:44:14.110873",
     "status": "completed"
    },
    "tags": []
   },
   "outputs": [],
   "source": [
    "wine_reviews.head()"
   ]
  },
  {
   "cell_type": "markdown",
   "id": "cbc269e6",
   "metadata": {
    "papermill": {
     "duration": 0.02187,
     "end_time": "2022-02-08T16:44:14.194541",
     "exception": false,
     "start_time": "2022-02-08T16:44:14.172671",
     "status": "completed"
    },
    "tags": []
   },
   "source": [
    "The `pd.read_csv()` function is well-endowed, with over 30 optional parameters you can specify. For example, you can see in this dataset that the CSV file has a built-in index, which pandas did not pick up on automatically. To make pandas use that column for the index (instead of creating a new one from scratch), we can specify an `index_col`."
   ]
  },
  {
   "cell_type": "code",
   "execution_count": null,
   "id": "24f09a34",
   "metadata": {
    "execution": {
     "iopub.execute_input": "2022-02-08T16:44:14.244571Z",
     "iopub.status.busy": "2022-02-08T16:44:14.243742Z",
     "iopub.status.idle": "2022-02-08T16:44:15.049078Z",
     "shell.execute_reply": "2022-02-08T16:44:15.048523Z"
    },
    "papermill": {
     "duration": 0.832289,
     "end_time": "2022-02-08T16:44:15.049207",
     "exception": false,
     "start_time": "2022-02-08T16:44:14.216918",
     "status": "completed"
    },
    "tags": []
   },
   "outputs": [],
   "source": [
    "wine_reviews = pd.read_csv(\"../input/wine-reviews/winemag-data-130k-v2.csv\", index_col=0)\n",
    "wine_reviews.head()"
   ]
  }
 ],
 "metadata": {
  "kernelspec": {
   "display_name": "Python 3 (ipykernel)",
   "language": "python",
   "name": "python3"
  },
  "language_info": {
   "codemirror_mode": {
    "name": "ipython",
    "version": 3
   },
   "file_extension": ".py",
   "mimetype": "text/x-python",
   "name": "python",
   "nbconvert_exporter": "python",
   "pygments_lexer": "ipython3",
   "version": "3.9.12"
  },
  "papermill": {
   "default_parameters": {},
   "duration": 12.263247,
   "end_time": "2022-02-08T16:44:15.771485",
   "environment_variables": {},
   "exception": null,
   "input_path": "__notebook__.ipynb",
   "output_path": "__notebook__.ipynb",
   "parameters": {},
   "start_time": "2022-02-08T16:44:03.508238",
   "version": "2.3.3"
  },
  "vscode": {
   "interpreter": {
    "hash": "9265138a6bc2851d4b9ff8668e295e32fc2446e45c4fb0b75c7cb472bd05b3c4"
   }
  }
 },
 "nbformat": 4,
 "nbformat_minor": 5
}
