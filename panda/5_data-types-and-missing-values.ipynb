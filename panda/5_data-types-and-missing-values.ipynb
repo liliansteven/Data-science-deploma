{
 "cells": [
  {
   "cell_type": "markdown",
   "id": "56f3cab0",
   "metadata": {
    "papermill": {
     "duration": 0.013338,
     "end_time": "2022-02-08T16:48:42.905429",
     "exception": false,
     "start_time": "2022-02-08T16:48:42.892091",
     "status": "completed"
    },
    "tags": []
   },
   "source": [
    "# Introduction\n",
    "\n",
    "In this tutorial, you'll learn how to investigate data types within a DataFrame or Series.  You'll also learn how to find and replace entries.\n",
    "\n",
    "\n",
    "# Dtypes\n",
    "\n",
    "The data type for a column in a DataFrame or a Series is known as the **dtype**.\n",
    "\n",
    "You can use the `dtype` property to grab the type of a specific column.  For instance, we can get the dtype of the `price` column in the `reviews` DataFrame:"
   ]
  },
  {
   "cell_type": "code",
   "execution_count": 1,
   "id": "d38f1fea",
   "metadata": {
    "_kg_hide-input": true,
    "execution": {
     "iopub.execute_input": "2022-02-08T16:48:42.934143Z",
     "iopub.status.busy": "2022-02-08T16:48:42.932967Z",
     "iopub.status.idle": "2022-02-08T16:48:44.882687Z",
     "shell.execute_reply": "2022-02-08T16:48:44.883216Z"
    },
    "papermill": {
     "duration": 1.966121,
     "end_time": "2022-02-08T16:48:44.883553",
     "exception": false,
     "start_time": "2022-02-08T16:48:42.917432",
     "status": "completed"
    },
    "tags": []
   },
   "outputs": [],
   "source": [
    "\n",
    "import pandas as pd\n",
    "reviews = pd.read_csv(\"../input/wine-reviews/winemag-data-130k-v2.csv\", index_col=0)\n",
    "pd.set_option('max_rows', 5)"
   ]
  },
  {
   "cell_type": "code",
   "execution_count": 2,
   "id": "77a71d60",
   "metadata": {
    "execution": {
     "iopub.execute_input": "2022-02-08T16:48:44.914538Z",
     "iopub.status.busy": "2022-02-08T16:48:44.913489Z",
     "iopub.status.idle": "2022-02-08T16:48:44.924901Z",
     "shell.execute_reply": "2022-02-08T16:48:44.925436Z"
    },
    "papermill": {
     "duration": 0.027791,
     "end_time": "2022-02-08T16:48:44.925619",
     "exception": false,
     "start_time": "2022-02-08T16:48:44.897828",
     "status": "completed"
    },
    "scrolled": true,
    "tags": []
   },
   "outputs": [
    {
     "data": {
      "text/plain": [
       "dtype('float64')"
      ]
     },
     "execution_count": 2,
     "metadata": {},
     "output_type": "execute_result"
    }
   ],
   "source": [
    "reviews.price.dtype"
   ]
  },
  {
   "cell_type": "markdown",
   "id": "26407bca",
   "metadata": {
    "papermill": {
     "duration": 0.012363,
     "end_time": "2022-02-08T16:48:44.951040",
     "exception": false,
     "start_time": "2022-02-08T16:48:44.938677",
     "status": "completed"
    },
    "tags": []
   },
   "source": [
    "Alternatively, the `dtypes` property returns the `dtype` of _every_ column in the DataFrame:"
   ]
  },
  {
   "cell_type": "code",
   "execution_count": 3,
   "id": "54b8fede",
   "metadata": {
    "execution": {
     "iopub.execute_input": "2022-02-08T16:48:44.980071Z",
     "iopub.status.busy": "2022-02-08T16:48:44.979061Z",
     "iopub.status.idle": "2022-02-08T16:48:44.987088Z",
     "shell.execute_reply": "2022-02-08T16:48:44.987676Z"
    },
    "papermill": {
     "duration": 0.024332,
     "end_time": "2022-02-08T16:48:44.987864",
     "exception": false,
     "start_time": "2022-02-08T16:48:44.963532",
     "status": "completed"
    },
    "tags": []
   },
   "outputs": [
    {
     "data": {
      "text/plain": [
       "country        object\n",
       "description    object\n",
       "                ...  \n",
       "variety        object\n",
       "winery         object\n",
       "Length: 13, dtype: object"
      ]
     },
     "execution_count": 3,
     "metadata": {},
     "output_type": "execute_result"
    }
   ],
   "source": [
    "reviews.dtypes"
   ]
  },
  {
   "cell_type": "markdown",
   "id": "cc725ded",
   "metadata": {
    "papermill": {
     "duration": 0.013088,
     "end_time": "2022-02-08T16:48:45.014512",
     "exception": false,
     "start_time": "2022-02-08T16:48:45.001424",
     "status": "completed"
    },
    "tags": []
   },
   "source": [
    "Data types tell us something about how pandas is storing the data internally. `float64` means that it's using a 64-bit floating point number; `int64` means a similarly sized integer instead, and so on.\n",
    "\n",
    "One peculiarity to keep in mind (and on display very clearly here) is that columns consisting entirely of strings do not get their own type; they are instead given the `object` type.\n",
    "\n",
    "It's possible to convert a column of one type into another wherever such a conversion makes sense by using the `astype()` function. For example, we may transform the `points` column from its existing `int64` data type into a `float64` data type:"
   ]
  },
  {
   "cell_type": "code",
   "execution_count": 4,
   "id": "29e4a9ef",
   "metadata": {
    "execution": {
     "iopub.execute_input": "2022-02-08T16:48:45.046546Z",
     "iopub.status.busy": "2022-02-08T16:48:45.045559Z",
     "iopub.status.idle": "2022-02-08T16:48:45.052333Z",
     "shell.execute_reply": "2022-02-08T16:48:45.052796Z"
    },
    "papermill": {
     "duration": 0.025338,
     "end_time": "2022-02-08T16:48:45.052972",
     "exception": false,
     "start_time": "2022-02-08T16:48:45.027634",
     "status": "completed"
    },
    "scrolled": true,
    "tags": []
   },
   "outputs": [
    {
     "data": {
      "text/plain": [
       "0         87.0\n",
       "1         87.0\n",
       "          ... \n",
       "129969    90.0\n",
       "129970    90.0\n",
       "Name: points, Length: 129971, dtype: float64"
      ]
     },
     "execution_count": 4,
     "metadata": {},
     "output_type": "execute_result"
    }
   ],
   "source": [
    "reviews.points.astype('float64')"
   ]
  },
  {
   "cell_type": "markdown",
   "id": "b2934e4f",
   "metadata": {
    "papermill": {
     "duration": 0.012904,
     "end_time": "2022-02-08T16:48:45.079067",
     "exception": false,
     "start_time": "2022-02-08T16:48:45.066163",
     "status": "completed"
    },
    "tags": []
   },
   "source": [
    "A DataFrame or Series index has its own `dtype`, too:"
   ]
  },
  {
   "cell_type": "code",
   "execution_count": 5,
   "id": "cc70ec82",
   "metadata": {
    "execution": {
     "iopub.execute_input": "2022-02-08T16:48:45.109484Z",
     "iopub.status.busy": "2022-02-08T16:48:45.108483Z",
     "iopub.status.idle": "2022-02-08T16:48:45.115479Z",
     "shell.execute_reply": "2022-02-08T16:48:45.114929Z"
    },
    "papermill": {
     "duration": 0.023432,
     "end_time": "2022-02-08T16:48:45.115625",
     "exception": false,
     "start_time": "2022-02-08T16:48:45.092193",
     "status": "completed"
    },
    "tags": []
   },
   "outputs": [
    {
     "data": {
      "text/plain": [
       "dtype('int64')"
      ]
     },
     "execution_count": 5,
     "metadata": {},
     "output_type": "execute_result"
    }
   ],
   "source": [
    "reviews.index.dtype"
   ]
  },
  {
   "cell_type": "markdown",
   "id": "d09bb1f5",
   "metadata": {
    "papermill": {
     "duration": 0.013428,
     "end_time": "2022-02-08T16:48:45.142899",
     "exception": false,
     "start_time": "2022-02-08T16:48:45.129471",
     "status": "completed"
    },
    "tags": []
   },
   "source": [
    "Pandas also supports more exotic data types, such as categorical data and timeseries data. Because these data types are more rarely used, we will omit them until a much later section of this tutorial."
   ]
  },
  {
   "cell_type": "markdown",
   "id": "58df0e2b",
   "metadata": {
    "papermill": {
     "duration": 0.013249,
     "end_time": "2022-02-08T16:48:45.169869",
     "exception": false,
     "start_time": "2022-02-08T16:48:45.156620",
     "status": "completed"
    },
    "tags": []
   },
   "source": [
    "# Missing data\n",
    "\n",
    "Entries missing values are given the value `NaN`, short for \"Not a Number\". For technical reasons these `NaN` values are always of the `float64` dtype.\n",
    "\n",
    "Pandas provides some methods specific to missing data. To select `NaN` entries you can use `pd.isnull()` (or its companion `pd.notnull()`). This is meant to be used thusly:"
   ]
  },
  {
   "cell_type": "code",
   "execution_count": 6,
   "id": "5073da05",
   "metadata": {
    "execution": {
     "iopub.execute_input": "2022-02-08T16:48:45.216500Z",
     "iopub.status.busy": "2022-02-08T16:48:45.215776Z",
     "iopub.status.idle": "2022-02-08T16:48:45.242924Z",
     "shell.execute_reply": "2022-02-08T16:48:45.242358Z"
    },
    "papermill": {
     "duration": 0.059494,
     "end_time": "2022-02-08T16:48:45.243075",
     "exception": false,
     "start_time": "2022-02-08T16:48:45.183581",
     "status": "completed"
    },
    "tags": []
   },
   "outputs": [
    {
     "data": {
      "text/html": [
       "<div>\n",
       "<style scoped>\n",
       "    .dataframe tbody tr th:only-of-type {\n",
       "        vertical-align: middle;\n",
       "    }\n",
       "\n",
       "    .dataframe tbody tr th {\n",
       "        vertical-align: top;\n",
       "    }\n",
       "\n",
       "    .dataframe thead th {\n",
       "        text-align: right;\n",
       "    }\n",
       "</style>\n",
       "<table border=\"1\" class=\"dataframe\">\n",
       "  <thead>\n",
       "    <tr style=\"text-align: right;\">\n",
       "      <th></th>\n",
       "      <th>country</th>\n",
       "      <th>description</th>\n",
       "      <th>designation</th>\n",
       "      <th>points</th>\n",
       "      <th>price</th>\n",
       "      <th>province</th>\n",
       "      <th>region_1</th>\n",
       "      <th>region_2</th>\n",
       "      <th>taster_name</th>\n",
       "      <th>taster_twitter_handle</th>\n",
       "      <th>title</th>\n",
       "      <th>variety</th>\n",
       "      <th>winery</th>\n",
       "    </tr>\n",
       "  </thead>\n",
       "  <tbody>\n",
       "    <tr>\n",
       "      <th>913</th>\n",
       "      <td>NaN</td>\n",
       "      <td>Amber in color, this wine has aromas of peach ...</td>\n",
       "      <td>Asureti Valley</td>\n",
       "      <td>87</td>\n",
       "      <td>30.0</td>\n",
       "      <td>NaN</td>\n",
       "      <td>NaN</td>\n",
       "      <td>NaN</td>\n",
       "      <td>Mike DeSimone</td>\n",
       "      <td>@worldwineguys</td>\n",
       "      <td>Gotsa Family Wines 2014 Asureti Valley Chinuri</td>\n",
       "      <td>Chinuri</td>\n",
       "      <td>Gotsa Family Wines</td>\n",
       "    </tr>\n",
       "    <tr>\n",
       "      <th>3131</th>\n",
       "      <td>NaN</td>\n",
       "      <td>Soft, fruity and juicy, this is a pleasant, si...</td>\n",
       "      <td>Partager</td>\n",
       "      <td>83</td>\n",
       "      <td>NaN</td>\n",
       "      <td>NaN</td>\n",
       "      <td>NaN</td>\n",
       "      <td>NaN</td>\n",
       "      <td>Roger Voss</td>\n",
       "      <td>@vossroger</td>\n",
       "      <td>Barton &amp; Guestier NV Partager Red</td>\n",
       "      <td>Red Blend</td>\n",
       "      <td>Barton &amp; Guestier</td>\n",
       "    </tr>\n",
       "    <tr>\n",
       "      <th>...</th>\n",
       "      <td>...</td>\n",
       "      <td>...</td>\n",
       "      <td>...</td>\n",
       "      <td>...</td>\n",
       "      <td>...</td>\n",
       "      <td>...</td>\n",
       "      <td>...</td>\n",
       "      <td>...</td>\n",
       "      <td>...</td>\n",
       "      <td>...</td>\n",
       "      <td>...</td>\n",
       "      <td>...</td>\n",
       "      <td>...</td>\n",
       "    </tr>\n",
       "    <tr>\n",
       "      <th>129590</th>\n",
       "      <td>NaN</td>\n",
       "      <td>A blend of 60% Syrah, 30% Cabernet Sauvignon a...</td>\n",
       "      <td>Shah</td>\n",
       "      <td>90</td>\n",
       "      <td>30.0</td>\n",
       "      <td>NaN</td>\n",
       "      <td>NaN</td>\n",
       "      <td>NaN</td>\n",
       "      <td>Mike DeSimone</td>\n",
       "      <td>@worldwineguys</td>\n",
       "      <td>Büyülübağ 2012 Shah Red</td>\n",
       "      <td>Red Blend</td>\n",
       "      <td>Büyülübağ</td>\n",
       "    </tr>\n",
       "    <tr>\n",
       "      <th>129900</th>\n",
       "      <td>NaN</td>\n",
       "      <td>This wine offers a delightful bouquet of black...</td>\n",
       "      <td>NaN</td>\n",
       "      <td>91</td>\n",
       "      <td>32.0</td>\n",
       "      <td>NaN</td>\n",
       "      <td>NaN</td>\n",
       "      <td>NaN</td>\n",
       "      <td>Mike DeSimone</td>\n",
       "      <td>@worldwineguys</td>\n",
       "      <td>Psagot 2014 Merlot</td>\n",
       "      <td>Merlot</td>\n",
       "      <td>Psagot</td>\n",
       "    </tr>\n",
       "  </tbody>\n",
       "</table>\n",
       "<p>63 rows × 13 columns</p>\n",
       "</div>"
      ],
      "text/plain": [
       "       country                                        description  \\\n",
       "913        NaN  Amber in color, this wine has aromas of peach ...   \n",
       "3131       NaN  Soft, fruity and juicy, this is a pleasant, si...   \n",
       "...        ...                                                ...   \n",
       "129590     NaN  A blend of 60% Syrah, 30% Cabernet Sauvignon a...   \n",
       "129900     NaN  This wine offers a delightful bouquet of black...   \n",
       "\n",
       "           designation  points  price province region_1 region_2  \\\n",
       "913     Asureti Valley      87   30.0      NaN      NaN      NaN   \n",
       "3131          Partager      83    NaN      NaN      NaN      NaN   \n",
       "...                ...     ...    ...      ...      ...      ...   \n",
       "129590            Shah      90   30.0      NaN      NaN      NaN   \n",
       "129900             NaN      91   32.0      NaN      NaN      NaN   \n",
       "\n",
       "          taster_name taster_twitter_handle  \\\n",
       "913     Mike DeSimone        @worldwineguys   \n",
       "3131       Roger Voss            @vossroger   \n",
       "...               ...                   ...   \n",
       "129590  Mike DeSimone        @worldwineguys   \n",
       "129900  Mike DeSimone        @worldwineguys   \n",
       "\n",
       "                                                 title    variety  \\\n",
       "913     Gotsa Family Wines 2014 Asureti Valley Chinuri    Chinuri   \n",
       "3131                 Barton & Guestier NV Partager Red  Red Blend   \n",
       "...                                                ...        ...   \n",
       "129590                         Büyülübağ 2012 Shah Red  Red Blend   \n",
       "129900                              Psagot 2014 Merlot     Merlot   \n",
       "\n",
       "                    winery  \n",
       "913     Gotsa Family Wines  \n",
       "3131     Barton & Guestier  \n",
       "...                    ...  \n",
       "129590           Büyülübağ  \n",
       "129900              Psagot  \n",
       "\n",
       "[63 rows x 13 columns]"
      ]
     },
     "execution_count": 6,
     "metadata": {},
     "output_type": "execute_result"
    }
   ],
   "source": [
    "reviews[pd.isnull(reviews.country)]"
   ]
  },
  {
   "cell_type": "markdown",
   "id": "e4ccda7c",
   "metadata": {
    "papermill": {
     "duration": 0.014615,
     "end_time": "2022-02-08T16:48:45.272205",
     "exception": false,
     "start_time": "2022-02-08T16:48:45.257590",
     "status": "completed"
    },
    "tags": []
   },
   "source": [
    "Replacing missing values is a common operation.  Pandas provides a really handy method for this problem: `fillna()`. `fillna()` provides a few different strategies for mitigating such data. For example, we can simply replace each `NaN` with an `\"Unknown\"`:"
   ]
  },
  {
   "cell_type": "code",
   "execution_count": 7,
   "id": "f14db343",
   "metadata": {
    "execution": {
     "iopub.execute_input": "2022-02-08T16:48:45.316898Z",
     "iopub.status.busy": "2022-02-08T16:48:45.315900Z",
     "iopub.status.idle": "2022-02-08T16:48:45.325321Z",
     "shell.execute_reply": "2022-02-08T16:48:45.324734Z"
    },
    "papermill": {
     "duration": 0.038394,
     "end_time": "2022-02-08T16:48:45.325477",
     "exception": false,
     "start_time": "2022-02-08T16:48:45.287083",
     "status": "completed"
    },
    "tags": []
   },
   "outputs": [
    {
     "data": {
      "text/plain": [
       "0         Unknown\n",
       "1         Unknown\n",
       "           ...   \n",
       "129969    Unknown\n",
       "129970    Unknown\n",
       "Name: region_2, Length: 129971, dtype: object"
      ]
     },
     "execution_count": 7,
     "metadata": {},
     "output_type": "execute_result"
    }
   ],
   "source": [
    "reviews.region_2.fillna(\"Unknown\")"
   ]
  },
  {
   "cell_type": "markdown",
   "id": "bc184733",
   "metadata": {
    "papermill": {
     "duration": 0.014639,
     "end_time": "2022-02-08T16:48:45.355123",
     "exception": false,
     "start_time": "2022-02-08T16:48:45.340484",
     "status": "completed"
    },
    "tags": []
   },
   "source": [
    "Or we could fill each missing value with the first non-null value that appears sometime after the given record in the database. This is known as the backfill strategy."
   ]
  },
  {
   "cell_type": "markdown",
   "id": "a139cd18",
   "metadata": {
    "papermill": {
     "duration": 0.015538,
     "end_time": "2022-02-08T16:48:45.385617",
     "exception": false,
     "start_time": "2022-02-08T16:48:45.370079",
     "status": "completed"
    },
    "tags": []
   },
   "source": [
    "Alternatively, we may have a non-null value that we would like to replace. For example, suppose that since this dataset was published, reviewer Kerin O'Keefe has changed her Twitter handle from `@kerinokeefe` to `@kerino`. One way to reflect this in the dataset is using the `replace()` method:"
   ]
  },
  {
   "cell_type": "code",
   "execution_count": 8,
   "id": "4cda3bb2",
   "metadata": {
    "execution": {
     "iopub.execute_input": "2022-02-08T16:48:45.421793Z",
     "iopub.status.busy": "2022-02-08T16:48:45.421063Z",
     "iopub.status.idle": "2022-02-08T16:48:45.434986Z",
     "shell.execute_reply": "2022-02-08T16:48:45.435464Z"
    },
    "papermill": {
     "duration": 0.033601,
     "end_time": "2022-02-08T16:48:45.435645",
     "exception": false,
     "start_time": "2022-02-08T16:48:45.402044",
     "status": "completed"
    },
    "tags": []
   },
   "outputs": [
    {
     "data": {
      "text/plain": [
       "0            @kerino\n",
       "1         @vossroger\n",
       "             ...    \n",
       "129969    @vossroger\n",
       "129970    @vossroger\n",
       "Name: taster_twitter_handle, Length: 129971, dtype: object"
      ]
     },
     "execution_count": 8,
     "metadata": {},
     "output_type": "execute_result"
    }
   ],
   "source": [
    "reviews.taster_twitter_handle.replace(\"@kerinokeefe\", \"@kerino\")"
   ]
  },
  {
   "cell_type": "markdown",
   "id": "4c827dfe",
   "metadata": {
    "papermill": {
     "duration": 0.015248,
     "end_time": "2022-02-08T16:48:45.467017",
     "exception": false,
     "start_time": "2022-02-08T16:48:45.451769",
     "status": "completed"
    },
    "tags": []
   },
   "source": [
    "The `replace()` method is worth mentioning here because it's handy for replacing missing data which is given some kind of sentinel value in the dataset: things like `\"Unknown\"`, `\"Undisclosed\"`, `\"Invalid\"`, and so on.\n",
    "\n"
   ]
  }
 ],
 "metadata": {
  "kernelspec": {
   "display_name": "Python 3 (ipykernel)",
   "language": "python",
   "name": "python3"
  },
  "language_info": {
   "codemirror_mode": {
    "name": "ipython",
    "version": 3
   },
   "file_extension": ".py",
   "mimetype": "text/x-python",
   "name": "python",
   "nbconvert_exporter": "python",
   "pygments_lexer": "ipython3",
   "version": "3.9.12"
  },
  "papermill": {
   "default_parameters": {},
   "duration": 14.258348,
   "end_time": "2022-02-08T16:48:46.123892",
   "environment_variables": {},
   "exception": null,
   "input_path": "__notebook__.ipynb",
   "output_path": "__notebook__.ipynb",
   "parameters": {},
   "start_time": "2022-02-08T16:48:31.865544",
   "version": "2.3.3"
  }
 },
 "nbformat": 4,
 "nbformat_minor": 5
}
